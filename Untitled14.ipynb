{
  "nbformat": 4,
  "nbformat_minor": 0,
  "metadata": {
    "colab": {
      "name": "Untitled14.ipynb",
      "provenance": [],
      "authorship_tag": "ABX9TyOfV3SB7zMZFQ2G/HXaBoxt",
      "include_colab_link": true
    },
    "kernelspec": {
      "name": "python3",
      "display_name": "Python 3"
    },
    "language_info": {
      "name": "python"
    }
  },
  "cells": [
    {
      "cell_type": "markdown",
      "metadata": {
        "id": "view-in-github",
        "colab_type": "text"
      },
      "source": [
        "<a href=\"https://colab.research.google.com/github/luferazth/My_practices/blob/main/Untitled14.ipynb\" target=\"_parent\"><img src=\"https://colab.research.google.com/assets/colab-badge.svg\" alt=\"Open In Colab\"/></a>"
      ]
    },
    {
      "cell_type": "code",
      "execution_count": 1,
      "metadata": {
        "id": "zV1Ddx1poTTI"
      },
      "outputs": [],
      "source": [
        "from scipy.stats import binom\n",
        "import matplotlib.pyplot as plt"
      ]
    },
    {
      "cell_type": "code",
      "source": [
        "n, p = 3, 0.75\n",
        "mean, var, skew, kurt = binom.stats(n, p, moments='mvsk')"
      ],
      "metadata": {
        "id": "ggkF_R1apIK4"
      },
      "execution_count": 2,
      "outputs": []
    },
    {
      "cell_type": "code",
      "source": [
        "\n",
        "from scipy.stats import binom\n",
        "# setting the values\n",
        "# of n and p\n",
        "n = 8\n",
        "p = 0.10\n",
        "# defining the list of r values\n",
        "r_values = list(range(n + 1))\n",
        "# obtaining the mean and variance \n",
        "mean, var = binom.stats(n, p)\n",
        "# list of pmf values\n",
        "dist = [binom.pmf(r, n, p) for r in r_values ]\n",
        "# printing the table\n",
        "print(\"r\\tp(r)\")\n",
        "for i in range(n + 1):\n",
        "    print(str(r_values[i]) + \"\\t\" + str(dist[i]))\n",
        "# printing mean and variance\n",
        "print(\"mean = \"+str(mean))\n",
        "print(\"variance = \"+str(var))"
      ],
      "metadata": {
        "colab": {
          "base_uri": "https://localhost:8080/"
        },
        "id": "g2_YDrXLpTlN",
        "outputId": "b3cacdb0-4e07-4a20-9a91-49a345069aba"
      },
      "execution_count": 13,
      "outputs": [
        {
          "output_type": "stream",
          "name": "stdout",
          "text": [
            "r\tp(r)\n",
            "0\t0.43046721\n",
            "1\t0.3826375200000002\n",
            "2\t0.14880348000000013\n",
            "3\t0.03306744000000002\n",
            "4\t0.004592700000000005\n",
            "5\t0.00040824000000000096\n",
            "6\t2.2680000000000037e-05\n",
            "7\t7.20000000000002e-07\n",
            "8\t1.0000000000000018e-08\n",
            "mean = 0.8\n",
            "variance = 0.7200000000000001\n"
          ]
        }
      ]
    },
    {
      "cell_type": "code",
      "source": [
        "0.35109366000000003+0.16265356000000003+0.028257609999999992"
      ],
      "metadata": {
        "colab": {
          "base_uri": "https://localhost:8080/"
        },
        "id": "76gARs0Kp2Rh",
        "outputId": "9667df22-fe1e-41ad-a43d-39744280fe65"
      },
      "execution_count": 12,
      "outputs": [
        {
          "output_type": "execute_result",
          "data": {
            "text/plain": [
              "0.5420048300000001"
            ]
          },
          "metadata": {},
          "execution_count": 12
        }
      ]
    },
    {
      "cell_type": "code",
      "source": [
        "from scipy.stats import poisson\n",
        "\n",
        "#calculate probability\n",
        "poisson.pmf(k=4, mu=3)\n",
        "\n"
      ],
      "metadata": {
        "colab": {
          "base_uri": "https://localhost:8080/"
        },
        "id": "9oNcxSkkqpLm",
        "outputId": "8550dc41-6c14-4af2-8d15-84e9cbdcb206"
      },
      "execution_count": 24,
      "outputs": [
        {
          "output_type": "execute_result",
          "data": {
            "text/plain": [
              "0.16803135574154085"
            ]
          },
          "metadata": {},
          "execution_count": 24
        }
      ]
    },
    {
      "cell_type": "code",
      "source": [
        "from scipy.stats import poisson\n",
        "\n",
        "#calculate probability\n",
        "1 - poisson.cdf(k=4, mu=3)\n",
        "\n"
      ],
      "metadata": {
        "colab": {
          "base_uri": "https://localhost:8080/"
        },
        "id": "4Nrua3cPrTNq",
        "outputId": "51842857-2fe2-43f7-84ad-9b2e9e6634b9"
      },
      "execution_count": 22,
      "outputs": [
        {
          "output_type": "execute_result",
          "data": {
            "text/plain": [
              "0.1847367554762278"
            ]
          },
          "metadata": {},
          "execution_count": 22
        }
      ]
    },
    {
      "cell_type": "code",
      "source": [
        "from scipy.stats import poisson\n",
        "\n",
        "#calculate probability\n",
        "poisson.cdf(k=20, mu=15)\n",
        "\n"
      ],
      "metadata": {
        "colab": {
          "base_uri": "https://localhost:8080/"
        },
        "id": "agWkPcEArX5b",
        "outputId": "a418ad5a-49bd-4da0-f160-88d5b4941fa0"
      },
      "execution_count": 25,
      "outputs": [
        {
          "output_type": "execute_result",
          "data": {
            "text/plain": [
              "0.9170290899685397"
            ]
          },
          "metadata": {},
          "execution_count": 25
        }
      ]
    },
    {
      "cell_type": "code",
      "source": [
        "from scipy.stats import *"
      ],
      "metadata": {
        "id": "IWTo5Jjerbwk"
      },
      "execution_count": 27,
      "outputs": []
    },
    {
      "cell_type": "code",
      "source": [
        "scipy.stats."
      ],
      "metadata": {
        "id": "AGAagkTJun_r"
      },
      "execution_count": null,
      "outputs": []
    },
    {
      "cell_type": "code",
      "source": [
        "for i in range(1,15,3):\n",
        "  print(i)"
      ],
      "metadata": {
        "colab": {
          "base_uri": "https://localhost:8080/"
        },
        "id": "FXe99mGQvkas",
        "outputId": "7e928f83-9625-4e6d-dda3-9c1793eca7bb"
      },
      "execution_count": 28,
      "outputs": [
        {
          "output_type": "stream",
          "name": "stdout",
          "text": [
            "1\n",
            "4\n",
            "7\n",
            "10\n",
            "13\n"
          ]
        }
      ]
    },
    {
      "cell_type": "code",
      "source": [
        "x=5\n",
        "print(\"X is:\",x)"
      ],
      "metadata": {
        "colab": {
          "base_uri": "https://localhost:8080/"
        },
        "id": "h49kjqrEvoCY",
        "outputId": "4eac88ad-8cc3-4060-a252-52c2b1665362"
      },
      "execution_count": 29,
      "outputs": [
        {
          "output_type": "stream",
          "name": "stdout",
          "text": [
            "X is: 5\n"
          ]
        }
      ]
    },
    {
      "cell_type": "code",
      "source": [
        "word= \"SWE 225\"\n",
        "print(word[2:-2])"
      ],
      "metadata": {
        "colab": {
          "base_uri": "https://localhost:8080/"
        },
        "id": "7HeEAHBiv_6_",
        "outputId": "993a85a8-7b87-4cbc-8b31-297074443e4c"
      },
      "execution_count": 30,
      "outputs": [
        {
          "output_type": "stream",
          "name": "stdout",
          "text": [
            "E 2\n"
          ]
        }
      ]
    },
    {
      "cell_type": "code",
      "source": [
        "print(word[-2:])"
      ],
      "metadata": {
        "colab": {
          "base_uri": "https://localhost:8080/"
        },
        "id": "U8n0br05wQ5u",
        "outputId": "f850536c-4b9d-43f1-f43d-7ee55b31b8f7"
      },
      "execution_count": 31,
      "outputs": [
        {
          "output_type": "stream",
          "name": "stdout",
          "text": [
            "25\n"
          ]
        }
      ]
    },
    {
      "cell_type": "code",
      "source": [
        "x = input('s')"
      ],
      "metadata": {
        "colab": {
          "base_uri": "https://localhost:8080/"
        },
        "id": "dmSQ-hxwwcFW",
        "outputId": "22529dcf-35d8-48ea-c797-002408d3b5f6"
      },
      "execution_count": 32,
      "outputs": [
        {
          "name": "stdout",
          "output_type": "stream",
          "text": [
            "ss\n"
          ]
        }
      ]
    },
    {
      "cell_type": "code",
      "source": [
        "type(x)"
      ],
      "metadata": {
        "colab": {
          "base_uri": "https://localhost:8080/"
        },
        "id": "07bdFD5ux-Bd",
        "outputId": "eb4573b7-1d7f-48ba-9649-8566aa71cbe5"
      },
      "execution_count": 33,
      "outputs": [
        {
          "output_type": "execute_result",
          "data": {
            "text/plain": [
              "str"
            ]
          },
          "metadata": {},
          "execution_count": 33
        }
      ]
    },
    {
      "cell_type": "code",
      "source": [
        "word.isupper()"
      ],
      "metadata": {
        "colab": {
          "base_uri": "https://localhost:8080/"
        },
        "id": "n4eG2c9LyAJE",
        "outputId": "6932fd86-12d5-49b1-a5b7-7f0a8bfbccb7"
      },
      "execution_count": 34,
      "outputs": [
        {
          "output_type": "execute_result",
          "data": {
            "text/plain": [
              "True"
            ]
          },
          "metadata": {},
          "execution_count": 34
        }
      ]
    },
    {
      "cell_type": "code",
      "source": [
        "30 - (3+6)/9 *3"
      ],
      "metadata": {
        "colab": {
          "base_uri": "https://localhost:8080/"
        },
        "id": "nFO9L-tsySB8",
        "outputId": "4a618204-7e8a-4293-ef9a-afead8417d1b"
      },
      "execution_count": 35,
      "outputs": [
        {
          "output_type": "execute_result",
          "data": {
            "text/plain": [
              "27.0"
            ]
          },
          "metadata": {},
          "execution_count": 35
        }
      ]
    },
    {
      "cell_type": "code",
      "source": [
        "def destination(distance, departure_time, landing_time):\n",
        "  from datetime import datetime \n",
        "  departure_time = '10:33:26'\n",
        "  landing_time = '11:15:49' # for example\n",
        "  FMT = '%H:%M:%S'\n",
        "  tdelta = datetime.strptime(landing_time, FMT) - datetime.strptime(departure_time, FMT)\n",
        "  time_hours = tdelta.seconds / 3600\n",
        "  return round(time_hours,3), print(f\"speed is equal:{distance / time_hours:.2f}\"), print(f\"time is equal:{time_hours:.2f} hours\")"
      ],
      "metadata": {
        "id": "eeAdiI0TylqW"
      },
      "execution_count": 89,
      "outputs": []
    },
    {
      "cell_type": "code",
      "source": [
        "destination(100, \"11:22:45\", \"22:15:45\")"
      ],
      "metadata": {
        "colab": {
          "base_uri": "https://localhost:8080/"
        },
        "id": "_bILKelqz708",
        "outputId": "569d66ed-6818-447e-e580-607fb3c22ba4"
      },
      "execution_count": 90,
      "outputs": [
        {
          "output_type": "stream",
          "name": "stdout",
          "text": [
            "speed is equal:141.57\n",
            "time is equal:0.71 hours\n"
          ]
        },
        {
          "output_type": "execute_result",
          "data": {
            "text/plain": [
              "(0.706, None, None)"
            ]
          },
          "metadata": {},
          "execution_count": 90
        }
      ]
    },
    {
      "cell_type": "code",
      "source": [
        ""
      ],
      "metadata": {
        "id": "U50K9OU80GCG"
      },
      "execution_count": null,
      "outputs": []
    }
  ]
}