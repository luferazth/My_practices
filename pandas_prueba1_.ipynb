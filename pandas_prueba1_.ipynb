{
  "nbformat": 4,
  "nbformat_minor": 0,
  "metadata": {
    "colab": {
      "name": "pandas prueba1.",
      "provenance": [],
      "authorship_tag": "ABX9TyNLpLaMX0RcXCYwBzHHDl5W",
      "include_colab_link": true
    },
    "kernelspec": {
      "name": "python3",
      "display_name": "Python 3"
    },
    "language_info": {
      "name": "python"
    }
  },
  "cells": [
    {
      "cell_type": "markdown",
      "metadata": {
        "id": "view-in-github",
        "colab_type": "text"
      },
      "source": [
        "<a href=\"https://colab.research.google.com/github/luferazth/My_practices/blob/main/pandas_prueba1_.ipynb\" target=\"_parent\"><img src=\"https://colab.research.google.com/assets/colab-badge.svg\" alt=\"Open In Colab\"/></a>"
      ]
    },
    {
      "cell_type": "code",
      "execution_count": 2,
      "metadata": {
        "id": "K9uetH7fF-fG"
      },
      "outputs": [],
      "source": [
        "#Step 1. Import the necessary libraries\n",
        "import pandas as pd\n",
        "import numpy as np"
      ]
    },
    {
      "cell_type": "code",
      "source": [
        "chipo = pd.read_table('https://raw.githubusercontent.com/justmarkham/DAT8/master/data/chipotle.tsv')\n"
      ],
      "metadata": {
        "id": "wpU6l5z9GJJ_"
      },
      "execution_count": 3,
      "outputs": []
    },
    {
      "cell_type": "code",
      "source": [
        "chipo.head(10)"
      ],
      "metadata": {
        "colab": {
          "base_uri": "https://localhost:8080/",
          "height": 363
        },
        "id": "4FrQ-KaYGyPG",
        "outputId": "7da608b3-1d62-4d10-f150-e2167a946648"
      },
      "execution_count": 4,
      "outputs": [
        {
          "output_type": "execute_result",
          "data": {
            "text/html": [
              "\n",
              "  <div id=\"df-1245db8e-f9f3-4ccf-95c4-643e9154d7d6\">\n",
              "    <div class=\"colab-df-container\">\n",
              "      <div>\n",
              "<style scoped>\n",
              "    .dataframe tbody tr th:only-of-type {\n",
              "        vertical-align: middle;\n",
              "    }\n",
              "\n",
              "    .dataframe tbody tr th {\n",
              "        vertical-align: top;\n",
              "    }\n",
              "\n",
              "    .dataframe thead th {\n",
              "        text-align: right;\n",
              "    }\n",
              "</style>\n",
              "<table border=\"1\" class=\"dataframe\">\n",
              "  <thead>\n",
              "    <tr style=\"text-align: right;\">\n",
              "      <th></th>\n",
              "      <th>order_id</th>\n",
              "      <th>quantity</th>\n",
              "      <th>item_name</th>\n",
              "      <th>choice_description</th>\n",
              "      <th>item_price</th>\n",
              "    </tr>\n",
              "  </thead>\n",
              "  <tbody>\n",
              "    <tr>\n",
              "      <th>0</th>\n",
              "      <td>1</td>\n",
              "      <td>1</td>\n",
              "      <td>Chips and Fresh Tomato Salsa</td>\n",
              "      <td>NaN</td>\n",
              "      <td>$2.39</td>\n",
              "    </tr>\n",
              "    <tr>\n",
              "      <th>1</th>\n",
              "      <td>1</td>\n",
              "      <td>1</td>\n",
              "      <td>Izze</td>\n",
              "      <td>[Clementine]</td>\n",
              "      <td>$3.39</td>\n",
              "    </tr>\n",
              "    <tr>\n",
              "      <th>2</th>\n",
              "      <td>1</td>\n",
              "      <td>1</td>\n",
              "      <td>Nantucket Nectar</td>\n",
              "      <td>[Apple]</td>\n",
              "      <td>$3.39</td>\n",
              "    </tr>\n",
              "    <tr>\n",
              "      <th>3</th>\n",
              "      <td>1</td>\n",
              "      <td>1</td>\n",
              "      <td>Chips and Tomatillo-Green Chili Salsa</td>\n",
              "      <td>NaN</td>\n",
              "      <td>$2.39</td>\n",
              "    </tr>\n",
              "    <tr>\n",
              "      <th>4</th>\n",
              "      <td>2</td>\n",
              "      <td>2</td>\n",
              "      <td>Chicken Bowl</td>\n",
              "      <td>[Tomatillo-Red Chili Salsa (Hot), [Black Beans...</td>\n",
              "      <td>$16.98</td>\n",
              "    </tr>\n",
              "    <tr>\n",
              "      <th>5</th>\n",
              "      <td>3</td>\n",
              "      <td>1</td>\n",
              "      <td>Chicken Bowl</td>\n",
              "      <td>[Fresh Tomato Salsa (Mild), [Rice, Cheese, Sou...</td>\n",
              "      <td>$10.98</td>\n",
              "    </tr>\n",
              "    <tr>\n",
              "      <th>6</th>\n",
              "      <td>3</td>\n",
              "      <td>1</td>\n",
              "      <td>Side of Chips</td>\n",
              "      <td>NaN</td>\n",
              "      <td>$1.69</td>\n",
              "    </tr>\n",
              "    <tr>\n",
              "      <th>7</th>\n",
              "      <td>4</td>\n",
              "      <td>1</td>\n",
              "      <td>Steak Burrito</td>\n",
              "      <td>[Tomatillo Red Chili Salsa, [Fajita Vegetables...</td>\n",
              "      <td>$11.75</td>\n",
              "    </tr>\n",
              "    <tr>\n",
              "      <th>8</th>\n",
              "      <td>4</td>\n",
              "      <td>1</td>\n",
              "      <td>Steak Soft Tacos</td>\n",
              "      <td>[Tomatillo Green Chili Salsa, [Pinto Beans, Ch...</td>\n",
              "      <td>$9.25</td>\n",
              "    </tr>\n",
              "    <tr>\n",
              "      <th>9</th>\n",
              "      <td>5</td>\n",
              "      <td>1</td>\n",
              "      <td>Steak Burrito</td>\n",
              "      <td>[Fresh Tomato Salsa, [Rice, Black Beans, Pinto...</td>\n",
              "      <td>$9.25</td>\n",
              "    </tr>\n",
              "  </tbody>\n",
              "</table>\n",
              "</div>\n",
              "      <button class=\"colab-df-convert\" onclick=\"convertToInteractive('df-1245db8e-f9f3-4ccf-95c4-643e9154d7d6')\"\n",
              "              title=\"Convert this dataframe to an interactive table.\"\n",
              "              style=\"display:none;\">\n",
              "        \n",
              "  <svg xmlns=\"http://www.w3.org/2000/svg\" height=\"24px\"viewBox=\"0 0 24 24\"\n",
              "       width=\"24px\">\n",
              "    <path d=\"M0 0h24v24H0V0z\" fill=\"none\"/>\n",
              "    <path d=\"M18.56 5.44l.94 2.06.94-2.06 2.06-.94-2.06-.94-.94-2.06-.94 2.06-2.06.94zm-11 1L8.5 8.5l.94-2.06 2.06-.94-2.06-.94L8.5 2.5l-.94 2.06-2.06.94zm10 10l.94 2.06.94-2.06 2.06-.94-2.06-.94-.94-2.06-.94 2.06-2.06.94z\"/><path d=\"M17.41 7.96l-1.37-1.37c-.4-.4-.92-.59-1.43-.59-.52 0-1.04.2-1.43.59L10.3 9.45l-7.72 7.72c-.78.78-.78 2.05 0 2.83L4 21.41c.39.39.9.59 1.41.59.51 0 1.02-.2 1.41-.59l7.78-7.78 2.81-2.81c.8-.78.8-2.07 0-2.86zM5.41 20L4 18.59l7.72-7.72 1.47 1.35L5.41 20z\"/>\n",
              "  </svg>\n",
              "      </button>\n",
              "      \n",
              "  <style>\n",
              "    .colab-df-container {\n",
              "      display:flex;\n",
              "      flex-wrap:wrap;\n",
              "      gap: 12px;\n",
              "    }\n",
              "\n",
              "    .colab-df-convert {\n",
              "      background-color: #E8F0FE;\n",
              "      border: none;\n",
              "      border-radius: 50%;\n",
              "      cursor: pointer;\n",
              "      display: none;\n",
              "      fill: #1967D2;\n",
              "      height: 32px;\n",
              "      padding: 0 0 0 0;\n",
              "      width: 32px;\n",
              "    }\n",
              "\n",
              "    .colab-df-convert:hover {\n",
              "      background-color: #E2EBFA;\n",
              "      box-shadow: 0px 1px 2px rgba(60, 64, 67, 0.3), 0px 1px 3px 1px rgba(60, 64, 67, 0.15);\n",
              "      fill: #174EA6;\n",
              "    }\n",
              "\n",
              "    [theme=dark] .colab-df-convert {\n",
              "      background-color: #3B4455;\n",
              "      fill: #D2E3FC;\n",
              "    }\n",
              "\n",
              "    [theme=dark] .colab-df-convert:hover {\n",
              "      background-color: #434B5C;\n",
              "      box-shadow: 0px 1px 3px 1px rgba(0, 0, 0, 0.15);\n",
              "      filter: drop-shadow(0px 1px 2px rgba(0, 0, 0, 0.3));\n",
              "      fill: #FFFFFF;\n",
              "    }\n",
              "  </style>\n",
              "\n",
              "      <script>\n",
              "        const buttonEl =\n",
              "          document.querySelector('#df-1245db8e-f9f3-4ccf-95c4-643e9154d7d6 button.colab-df-convert');\n",
              "        buttonEl.style.display =\n",
              "          google.colab.kernel.accessAllowed ? 'block' : 'none';\n",
              "\n",
              "        async function convertToInteractive(key) {\n",
              "          const element = document.querySelector('#df-1245db8e-f9f3-4ccf-95c4-643e9154d7d6');\n",
              "          const dataTable =\n",
              "            await google.colab.kernel.invokeFunction('convertToInteractive',\n",
              "                                                     [key], {});\n",
              "          if (!dataTable) return;\n",
              "\n",
              "          const docLinkHtml = 'Like what you see? Visit the ' +\n",
              "            '<a target=\"_blank\" href=https://colab.research.google.com/notebooks/data_table.ipynb>data table notebook</a>'\n",
              "            + ' to learn more about interactive tables.';\n",
              "          element.innerHTML = '';\n",
              "          dataTable['output_type'] = 'display_data';\n",
              "          await google.colab.output.renderOutput(dataTable, element);\n",
              "          const docLink = document.createElement('div');\n",
              "          docLink.innerHTML = docLinkHtml;\n",
              "          element.appendChild(docLink);\n",
              "        }\n",
              "      </script>\n",
              "    </div>\n",
              "  </div>\n",
              "  "
            ],
            "text/plain": [
              "   order_id  ...  item_price\n",
              "0         1  ...      $2.39 \n",
              "1         1  ...      $3.39 \n",
              "2         1  ...      $3.39 \n",
              "3         1  ...      $2.39 \n",
              "4         2  ...     $16.98 \n",
              "5         3  ...     $10.98 \n",
              "6         3  ...      $1.69 \n",
              "7         4  ...     $11.75 \n",
              "8         4  ...      $9.25 \n",
              "9         5  ...      $9.25 \n",
              "\n",
              "[10 rows x 5 columns]"
            ]
          },
          "metadata": {},
          "execution_count": 4
        }
      ]
    },
    {
      "cell_type": "code",
      "source": [
        "chipo.shape[0]"
      ],
      "metadata": {
        "colab": {
          "base_uri": "https://localhost:8080/"
        },
        "id": "SSAxU_GnGyv0",
        "outputId": "56f9ebf7-90f1-4188-a988-dff493c710c2"
      },
      "execution_count": 5,
      "outputs": [
        {
          "output_type": "execute_result",
          "data": {
            "text/plain": [
              "4622"
            ]
          },
          "metadata": {},
          "execution_count": 5
        }
      ]
    },
    {
      "cell_type": "code",
      "source": [
        "chipo.shape[1]"
      ],
      "metadata": {
        "colab": {
          "base_uri": "https://localhost:8080/"
        },
        "id": "1xbN1w--HIdC",
        "outputId": "5854b992-74aa-4a95-8c6a-8e5dea9b6bd1"
      },
      "execution_count": 6,
      "outputs": [
        {
          "output_type": "execute_result",
          "data": {
            "text/plain": [
              "5"
            ]
          },
          "metadata": {},
          "execution_count": 6
        }
      ]
    },
    {
      "cell_type": "code",
      "source": [
        "[col for col in chipo.columns]"
      ],
      "metadata": {
        "colab": {
          "base_uri": "https://localhost:8080/"
        },
        "id": "OqE3CTSEHXQb",
        "outputId": "49029735-4360-4300-eae8-7d5ab30c57a9"
      },
      "execution_count": 7,
      "outputs": [
        {
          "output_type": "execute_result",
          "data": {
            "text/plain": [
              "['order_id', 'quantity', 'item_name', 'choice_description', 'item_price']"
            ]
          },
          "metadata": {},
          "execution_count": 7
        }
      ]
    },
    {
      "cell_type": "code",
      "source": [
        "chipo.index"
      ],
      "metadata": {
        "colab": {
          "base_uri": "https://localhost:8080/"
        },
        "id": "SBQqnV-rHgpa",
        "outputId": "120a298a-5861-417f-a928-5e5516ec9923"
      },
      "execution_count": 8,
      "outputs": [
        {
          "output_type": "execute_result",
          "data": {
            "text/plain": [
              "RangeIndex(start=0, stop=4622, step=1)"
            ]
          },
          "metadata": {},
          "execution_count": 8
        }
      ]
    },
    {
      "cell_type": "code",
      "source": [
        "chipo.groupby('item_name')['quantity'].sum().sort_values()[::-1]"
      ],
      "metadata": {
        "colab": {
          "base_uri": "https://localhost:8080/"
        },
        "id": "uQkwkXq1HrBo",
        "outputId": "c9bed5c6-d92d-4140-9ec8-b5a088b280ad"
      },
      "execution_count": 9,
      "outputs": [
        {
          "output_type": "execute_result",
          "data": {
            "text/plain": [
              "item_name\n",
              "Chicken Bowl                             761\n",
              "Chicken Burrito                          591\n",
              "Chips and Guacamole                      506\n",
              "Steak Burrito                            386\n",
              "Canned Soft Drink                        351\n",
              "Chips                                    230\n",
              "Steak Bowl                               221\n",
              "Bottled Water                            211\n",
              "Chips and Fresh Tomato Salsa             130\n",
              "Canned Soda                              126\n",
              "Chicken Salad Bowl                       123\n",
              "Chicken Soft Tacos                       120\n",
              "Side of Chips                            110\n",
              "Veggie Burrito                            97\n",
              "Barbacoa Burrito                          91\n",
              "Veggie Bowl                               87\n",
              "Carnitas Bowl                             71\n",
              "Barbacoa Bowl                             66\n",
              "Carnitas Burrito                          60\n",
              "Steak Soft Tacos                          56\n",
              "6 Pack Soft Drink                         55\n",
              "Chips and Tomatillo Red Chili Salsa       50\n",
              "Chicken Crispy Tacos                      50\n",
              "Chips and Tomatillo Green Chili Salsa     45\n",
              "Carnitas Soft Tacos                       40\n",
              "Steak Crispy Tacos                        36\n",
              "Chips and Tomatillo-Green Chili Salsa     33\n",
              "Steak Salad Bowl                          31\n",
              "Nantucket Nectar                          29\n",
              "Chips and Tomatillo-Red Chili Salsa       25\n",
              "Barbacoa Soft Tacos                       25\n",
              "Chips and Roasted Chili Corn Salsa        23\n",
              "Izze                                      20\n",
              "Chips and Roasted Chili-Corn Salsa        18\n",
              "Veggie Salad Bowl                         18\n",
              "Barbacoa Crispy Tacos                     12\n",
              "Barbacoa Salad Bowl                       10\n",
              "Chicken Salad                              9\n",
              "Veggie Soft Tacos                          8\n",
              "Carnitas Crispy Tacos                      8\n",
              "Burrito                                    6\n",
              "Carnitas Salad Bowl                        6\n",
              "Veggie Salad                               6\n",
              "Steak Salad                                4\n",
              "Bowl                                       4\n",
              "Salad                                      2\n",
              "Crispy Tacos                               2\n",
              "Chips and Mild Fresh Tomato Salsa          1\n",
              "Veggie Crispy Tacos                        1\n",
              "Carnitas Salad                             1\n",
              "Name: quantity, dtype: int64"
            ]
          },
          "metadata": {},
          "execution_count": 9
        }
      ]
    },
    {
      "cell_type": "code",
      "source": [
        "chipo['choice_description'].value_counts()"
      ],
      "metadata": {
        "colab": {
          "base_uri": "https://localhost:8080/"
        },
        "id": "DbfHvzr5JbHh",
        "outputId": "89724853-ffd2-4c03-e5ff-bcd613f041bf"
      },
      "execution_count": 10,
      "outputs": [
        {
          "output_type": "execute_result",
          "data": {
            "text/plain": [
              "[Diet Coke]                                                                                                                                      134\n",
              "[Coke]                                                                                                                                           123\n",
              "[Sprite]                                                                                                                                          77\n",
              "[Fresh Tomato Salsa, [Rice, Black Beans, Cheese, Sour Cream, Lettuce]]                                                                            42\n",
              "[Fresh Tomato Salsa, [Rice, Black Beans, Cheese, Sour Cream, Guacamole, Lettuce]]                                                                 40\n",
              "                                                                                                                                                ... \n",
              "[Fresh Tomato Salsa (Mild), [Pinto Beans, Black Beans, Rice, Cheese, Sour Cream, Lettuce]]                                                         1\n",
              "[[Fresh Tomato Salsa (Mild), Roasted Chili Corn Salsa (Medium), Tomatillo-Red Chili Salsa (Hot)], [Pinto Beans, Cheese, Sour Cream, Lettuce]]      1\n",
              "[Fresh Tomato (Mild), [Guacamole, Rice, Black Beans]]                                                                                              1\n",
              "[[Tomatillo-Green Chili Salsa (Medium), Tomatillo-Red Chili Salsa (Hot)], [Black Beans, Rice, Cheese, Lettuce]]                                    1\n",
              "[Tomatillo Green Chili Salsa, [Rice, Fajita Vegetables, Black Beans, Guacamole]]                                                                   1\n",
              "Name: choice_description, Length: 1043, dtype: int64"
            ]
          },
          "metadata": {},
          "execution_count": 10
        }
      ]
    },
    {
      "cell_type": "code",
      "source": [
        "chipo.groupby('choice_description')['quantity'].sum().sort_values()[::-1]"
      ],
      "metadata": {
        "colab": {
          "base_uri": "https://localhost:8080/"
        },
        "id": "tozR05X6JVqD",
        "outputId": "8db01603-82eb-4c7a-9242-921e113256b9"
      },
      "execution_count": 11,
      "outputs": [
        {
          "output_type": "execute_result",
          "data": {
            "text/plain": [
              "choice_description\n",
              "[Diet Coke]                                                                                                       159\n",
              "[Coke]                                                                                                            143\n",
              "[Sprite]                                                                                                           89\n",
              "[Fresh Tomato Salsa, [Rice, Black Beans, Cheese, Sour Cream, Lettuce]]                                             49\n",
              "[Fresh Tomato Salsa, [Rice, Black Beans, Cheese, Sour Cream]]                                                      42\n",
              "                                                                                                                 ... \n",
              "[Tomatillo Green Chili Salsa, [Fajita Vegetables, Pinto Beans, Cheese]]                                             1\n",
              "[Tomatillo Green Chili Salsa, [Fajita Vegetables, Lettuce]]                                                         1\n",
              "[Tomatillo Green Chili Salsa, [Fajita Vegetables, Cheese, Sour Cream, Lettuce]]                                     1\n",
              "[Tomatillo Green Chili Salsa, [Fajita Vegetables, Cheese, Sour Cream, Guacamole, Lettuce, Rice]]                    1\n",
              "[Adobo-Marinated and Grilled Chicken, Pinto Beans, [Sour Cream, Salsa, Cheese, Cilantro-Lime Rice, Guacamole]]      1\n",
              "Name: quantity, Length: 1043, dtype: int64"
            ]
          },
          "metadata": {},
          "execution_count": 11
        }
      ]
    },
    {
      "cell_type": "code",
      "source": [
        "chipo['quantity'].sum()"
      ],
      "metadata": {
        "colab": {
          "base_uri": "https://localhost:8080/"
        },
        "id": "SqLSYCqeJCiP",
        "outputId": "da0b7cb2-360b-4023-ae98-95b97761e647"
      },
      "execution_count": 12,
      "outputs": [
        {
          "output_type": "execute_result",
          "data": {
            "text/plain": [
              "4972"
            ]
          },
          "metadata": {},
          "execution_count": 12
        }
      ]
    },
    {
      "cell_type": "code",
      "source": [
        "chipo['item_price'] = chipo['item_price'].apply(lambda x: float(x.replace(\"$\",\"\")))\n",
        "chipo['item_price']"
      ],
      "metadata": {
        "colab": {
          "base_uri": "https://localhost:8080/"
        },
        "id": "m11bFLiBvFmE",
        "outputId": "00a52e3e-c2de-405d-cf6e-79beb6311b2b"
      },
      "execution_count": 13,
      "outputs": [
        {
          "output_type": "execute_result",
          "data": {
            "text/plain": [
              "0        2.39\n",
              "1        3.39\n",
              "2        3.39\n",
              "3        2.39\n",
              "4       16.98\n",
              "        ...  \n",
              "4617    11.75\n",
              "4618    11.75\n",
              "4619    11.25\n",
              "4620     8.75\n",
              "4621     8.75\n",
              "Name: item_price, Length: 4622, dtype: float64"
            ]
          },
          "metadata": {},
          "execution_count": 13
        }
      ]
    },
    {
      "cell_type": "code",
      "source": [
        "chipo['order_id'].unique().max()"
      ],
      "metadata": {
        "colab": {
          "base_uri": "https://localhost:8080/"
        },
        "id": "9oSKBnV1LR-0",
        "outputId": "aaca5e49-ec47-4610-8c6f-5e9b35c2ef1c"
      },
      "execution_count": 14,
      "outputs": [
        {
          "output_type": "execute_result",
          "data": {
            "text/plain": [
              "1834"
            ]
          },
          "metadata": {},
          "execution_count": 14
        }
      ]
    },
    {
      "cell_type": "code",
      "source": [
        "chipo.loc[chipo['order_id']==1443]['item_price'].sum()"
      ],
      "metadata": {
        "colab": {
          "base_uri": "https://localhost:8080/"
        },
        "id": "8oG5ZJ6YNUhD",
        "outputId": "29b99004-e27e-4b10-ec2d-7bc92553347b"
      },
      "execution_count": 15,
      "outputs": [
        {
          "output_type": "execute_result",
          "data": {
            "text/plain": [
              "160.74"
            ]
          },
          "metadata": {},
          "execution_count": 15
        }
      ]
    },
    {
      "cell_type": "code",
      "source": [
        "len(sorted(chipo['item_name'].unique().tolist()))"
      ],
      "metadata": {
        "colab": {
          "base_uri": "https://localhost:8080/"
        },
        "id": "hG6ZDto_QSAx",
        "outputId": "a238689e-a8be-4c01-b2e3-00e00913fc81"
      },
      "execution_count": 16,
      "outputs": [
        {
          "output_type": "execute_result",
          "data": {
            "text/plain": [
              "50"
            ]
          },
          "metadata": {},
          "execution_count": 16
        }
      ]
    },
    {
      "cell_type": "code",
      "source": [
        "revenue = (chipo['quantity']* chipo['item_price']).sum()\n",
        "print('Revenue was: $' + str(np.round(revenue,2)))"
      ],
      "metadata": {
        "colab": {
          "base_uri": "https://localhost:8080/"
        },
        "id": "s3KJO9BZdQNG",
        "outputId": "bfc877b1-d3ca-403b-cc5c-766161c55b53"
      },
      "execution_count": 17,
      "outputs": [
        {
          "output_type": "stream",
          "name": "stdout",
          "text": [
            "Revenue was: $39237.02\n"
          ]
        }
      ]
    },
    {
      "cell_type": "code",
      "source": [
        "chipo['revenue'] = chipo['quantity']* chipo['item_price']\n",
        "chipo.groupby('order_id')['revenue'].sum().mean()"
      ],
      "metadata": {
        "colab": {
          "base_uri": "https://localhost:8080/"
        },
        "id": "nYh9AJP-ep9a",
        "outputId": "8ed21b26-045d-492f-db4c-3c18804057cb"
      },
      "execution_count": 18,
      "outputs": [
        {
          "output_type": "execute_result",
          "data": {
            "text/plain": [
              "21.394231188658654"
            ]
          },
          "metadata": {},
          "execution_count": 18
        }
      ]
    },
    {
      "cell_type": "code",
      "source": [
        "sorted(chipo['item_name'].unique().tolist())"
      ],
      "metadata": {
        "id": "yi9e0ZtjfLI_",
        "colab": {
          "base_uri": "https://localhost:8080/"
        },
        "outputId": "d2ca135f-3013-4d4f-eeb8-41cc03a8edc6"
      },
      "execution_count": 19,
      "outputs": [
        {
          "output_type": "execute_result",
          "data": {
            "text/plain": [
              "['6 Pack Soft Drink',\n",
              " 'Barbacoa Bowl',\n",
              " 'Barbacoa Burrito',\n",
              " 'Barbacoa Crispy Tacos',\n",
              " 'Barbacoa Salad Bowl',\n",
              " 'Barbacoa Soft Tacos',\n",
              " 'Bottled Water',\n",
              " 'Bowl',\n",
              " 'Burrito',\n",
              " 'Canned Soda',\n",
              " 'Canned Soft Drink',\n",
              " 'Carnitas Bowl',\n",
              " 'Carnitas Burrito',\n",
              " 'Carnitas Crispy Tacos',\n",
              " 'Carnitas Salad',\n",
              " 'Carnitas Salad Bowl',\n",
              " 'Carnitas Soft Tacos',\n",
              " 'Chicken Bowl',\n",
              " 'Chicken Burrito',\n",
              " 'Chicken Crispy Tacos',\n",
              " 'Chicken Salad',\n",
              " 'Chicken Salad Bowl',\n",
              " 'Chicken Soft Tacos',\n",
              " 'Chips',\n",
              " 'Chips and Fresh Tomato Salsa',\n",
              " 'Chips and Guacamole',\n",
              " 'Chips and Mild Fresh Tomato Salsa',\n",
              " 'Chips and Roasted Chili Corn Salsa',\n",
              " 'Chips and Roasted Chili-Corn Salsa',\n",
              " 'Chips and Tomatillo Green Chili Salsa',\n",
              " 'Chips and Tomatillo Red Chili Salsa',\n",
              " 'Chips and Tomatillo-Green Chili Salsa',\n",
              " 'Chips and Tomatillo-Red Chili Salsa',\n",
              " 'Crispy Tacos',\n",
              " 'Izze',\n",
              " 'Nantucket Nectar',\n",
              " 'Salad',\n",
              " 'Side of Chips',\n",
              " 'Steak Bowl',\n",
              " 'Steak Burrito',\n",
              " 'Steak Crispy Tacos',\n",
              " 'Steak Salad',\n",
              " 'Steak Salad Bowl',\n",
              " 'Steak Soft Tacos',\n",
              " 'Veggie Bowl',\n",
              " 'Veggie Burrito',\n",
              " 'Veggie Crispy Tacos',\n",
              " 'Veggie Salad',\n",
              " 'Veggie Salad Bowl',\n",
              " 'Veggie Soft Tacos']"
            ]
          },
          "metadata": {},
          "execution_count": 19
        }
      ]
    },
    {
      "cell_type": "code",
      "source": [
        "chipo['item_name'] = chipo['item_name'].apply(lambda x: x.replace('-',' '))"
      ],
      "metadata": {
        "id": "0enYDkJBu4_f"
      },
      "execution_count": 20,
      "outputs": []
    },
    {
      "cell_type": "code",
      "source": [
        "sorted(chipo['item_name'].unique().tolist())"
      ],
      "metadata": {
        "colab": {
          "base_uri": "https://localhost:8080/"
        },
        "id": "TYc4NEWLvPZD",
        "outputId": "6e9b6f32-db98-42d0-e6ae-dfd6fe7dbd94"
      },
      "execution_count": 21,
      "outputs": [
        {
          "output_type": "execute_result",
          "data": {
            "text/plain": [
              "['6 Pack Soft Drink',\n",
              " 'Barbacoa Bowl',\n",
              " 'Barbacoa Burrito',\n",
              " 'Barbacoa Crispy Tacos',\n",
              " 'Barbacoa Salad Bowl',\n",
              " 'Barbacoa Soft Tacos',\n",
              " 'Bottled Water',\n",
              " 'Bowl',\n",
              " 'Burrito',\n",
              " 'Canned Soda',\n",
              " 'Canned Soft Drink',\n",
              " 'Carnitas Bowl',\n",
              " 'Carnitas Burrito',\n",
              " 'Carnitas Crispy Tacos',\n",
              " 'Carnitas Salad',\n",
              " 'Carnitas Salad Bowl',\n",
              " 'Carnitas Soft Tacos',\n",
              " 'Chicken Bowl',\n",
              " 'Chicken Burrito',\n",
              " 'Chicken Crispy Tacos',\n",
              " 'Chicken Salad',\n",
              " 'Chicken Salad Bowl',\n",
              " 'Chicken Soft Tacos',\n",
              " 'Chips',\n",
              " 'Chips and Fresh Tomato Salsa',\n",
              " 'Chips and Guacamole',\n",
              " 'Chips and Mild Fresh Tomato Salsa',\n",
              " 'Chips and Roasted Chili Corn Salsa',\n",
              " 'Chips and Tomatillo Green Chili Salsa',\n",
              " 'Chips and Tomatillo Red Chili Salsa',\n",
              " 'Crispy Tacos',\n",
              " 'Izze',\n",
              " 'Nantucket Nectar',\n",
              " 'Salad',\n",
              " 'Side of Chips',\n",
              " 'Steak Bowl',\n",
              " 'Steak Burrito',\n",
              " 'Steak Crispy Tacos',\n",
              " 'Steak Salad',\n",
              " 'Steak Salad Bowl',\n",
              " 'Steak Soft Tacos',\n",
              " 'Veggie Bowl',\n",
              " 'Veggie Burrito',\n",
              " 'Veggie Crispy Tacos',\n",
              " 'Veggie Salad',\n",
              " 'Veggie Salad Bowl',\n",
              " 'Veggie Soft Tacos']"
            ]
          },
          "metadata": {},
          "execution_count": 21
        }
      ]
    },
    {
      "cell_type": "markdown",
      "source": [
        "4. How many products cost more than $10.00?"
      ],
      "metadata": {
        "id": "jMi1I3DqvWQC"
      }
    },
    {
      "cell_type": "code",
      "source": [
        "chipo.loc[chipo.item_price > 10.00].item_name.unique()"
      ],
      "metadata": {
        "colab": {
          "base_uri": "https://localhost:8080/"
        },
        "id": "RxcAvTfMvbc-",
        "outputId": "52b8e085-5e99-4e0b-8a17-bc6c10100b69"
      },
      "execution_count": 22,
      "outputs": [
        {
          "output_type": "execute_result",
          "data": {
            "text/plain": [
              "array(['Chicken Bowl', 'Steak Burrito', 'Chicken Burrito',\n",
              "       'Barbacoa Bowl', 'Veggie Burrito', 'Veggie Bowl',\n",
              "       'Chicken Soft Tacos', 'Steak Bowl', 'Carnitas Burrito',\n",
              "       'Carnitas Bowl', 'Barbacoa Burrito', 'Chicken Salad Bowl',\n",
              "       'Barbacoa Crispy Tacos', 'Veggie Salad Bowl',\n",
              "       'Chicken Crispy Tacos', 'Chicken Salad', 'Steak Salad Bowl',\n",
              "       'Bowl', 'Veggie Soft Tacos', 'Barbacoa Soft Tacos',\n",
              "       'Carnitas Crispy Tacos', 'Carnitas Salad Bowl',\n",
              "       'Barbacoa Salad Bowl', 'Chips and Fresh Tomato Salsa',\n",
              "       'Steak Soft Tacos', 'Carnitas Soft Tacos', 'Steak Crispy Tacos',\n",
              "       'Chips and Guacamole', '6 Pack Soft Drink', 'Bottled Water',\n",
              "       'Side of Chips'], dtype=object)"
            ]
          },
          "metadata": {},
          "execution_count": 22
        }
      ]
    },
    {
      "cell_type": "code",
      "source": [
        "prices_chipo = chipo.iloc[chipo.groupby('item_name')['item_price'].idxmax()]"
      ],
      "metadata": {
        "id": "Wkgn5mvnMSth"
      },
      "execution_count": 23,
      "outputs": []
    },
    {
      "cell_type": "code",
      "source": [
        ""
      ],
      "metadata": {
        "id": "fQk4dbxFPQmA"
      },
      "execution_count": 23,
      "outputs": []
    },
    {
      "cell_type": "code",
      "source": [
        "prices_chipo['item_price'] = prices_chipo['item_price']/prices_chipo['quantity']"
      ],
      "metadata": {
        "colab": {
          "base_uri": "https://localhost:8080/"
        },
        "id": "6oo8cOH0RZ0k",
        "outputId": "46a27b2c-40d0-4db4-b0c2-edba6c072149"
      },
      "execution_count": 24,
      "outputs": [
        {
          "output_type": "stream",
          "name": "stderr",
          "text": [
            "/usr/local/lib/python3.7/dist-packages/ipykernel_launcher.py:1: SettingWithCopyWarning: \n",
            "A value is trying to be set on a copy of a slice from a DataFrame.\n",
            "Try using .loc[row_indexer,col_indexer] = value instead\n",
            "\n",
            "See the caveats in the documentation: https://pandas.pydata.org/pandas-docs/stable/user_guide/indexing.html#returning-a-view-versus-a-copy\n",
            "  \"\"\"Entry point for launching an IPython kernel.\n"
          ]
        }
      ]
    },
    {
      "cell_type": "code",
      "source": [
        "prices_chipo.quantity = prices_chipo.quantity/prices_chipo.quantity"
      ],
      "metadata": {
        "colab": {
          "base_uri": "https://localhost:8080/"
        },
        "id": "T3_jP3imRiqD",
        "outputId": "c11d8047-aa1d-4b28-9cec-47680044844b"
      },
      "execution_count": 25,
      "outputs": [
        {
          "output_type": "stream",
          "name": "stderr",
          "text": [
            "/usr/local/lib/python3.7/dist-packages/pandas/core/generic.py:5516: SettingWithCopyWarning: \n",
            "A value is trying to be set on a copy of a slice from a DataFrame.\n",
            "Try using .loc[row_indexer,col_indexer] = value instead\n",
            "\n",
            "See the caveats in the documentation: https://pandas.pydata.org/pandas-docs/stable/user_guide/indexing.html#returning-a-view-versus-a-copy\n",
            "  self[name] = value\n"
          ]
        }
      ]
    },
    {
      "cell_type": "code",
      "source": [
        "prices_chipo = prices_chipo.drop('revenue', axis =1)"
      ],
      "metadata": {
        "id": "lgdPhr2rRzGc"
      },
      "execution_count": 26,
      "outputs": []
    },
    {
      "cell_type": "code",
      "source": [
        "prices_chipo[['item_name', 'item_price']].sort_values(by='item_price').reset_index()"
      ],
      "metadata": {
        "colab": {
          "base_uri": "https://localhost:8080/",
          "height": 1000
        },
        "id": "ay9f_p2cR_lj",
        "outputId": "b88645a6-6f32-4fd3-a235-4dadc18bf1a4"
      },
      "execution_count": 27,
      "outputs": [
        {
          "output_type": "execute_result",
          "data": {
            "text/html": [
              "\n",
              "  <div id=\"df-1fceb49f-d98b-4324-8b51-206879e898ca\">\n",
              "    <div class=\"colab-df-container\">\n",
              "      <div>\n",
              "<style scoped>\n",
              "    .dataframe tbody tr th:only-of-type {\n",
              "        vertical-align: middle;\n",
              "    }\n",
              "\n",
              "    .dataframe tbody tr th {\n",
              "        vertical-align: top;\n",
              "    }\n",
              "\n",
              "    .dataframe thead th {\n",
              "        text-align: right;\n",
              "    }\n",
              "</style>\n",
              "<table border=\"1\" class=\"dataframe\">\n",
              "  <thead>\n",
              "    <tr style=\"text-align: right;\">\n",
              "      <th></th>\n",
              "      <th>index</th>\n",
              "      <th>item_name</th>\n",
              "      <th>item_price</th>\n",
              "    </tr>\n",
              "  </thead>\n",
              "  <tbody>\n",
              "    <tr>\n",
              "      <th>0</th>\n",
              "      <td>2235</td>\n",
              "      <td>Canned Soda</td>\n",
              "      <td>1.09</td>\n",
              "    </tr>\n",
              "    <tr>\n",
              "      <th>1</th>\n",
              "      <td>3973</td>\n",
              "      <td>Canned Soft Drink</td>\n",
              "      <td>1.25</td>\n",
              "    </tr>\n",
              "    <tr>\n",
              "      <th>2</th>\n",
              "      <td>4152</td>\n",
              "      <td>Bottled Water</td>\n",
              "      <td>1.50</td>\n",
              "    </tr>\n",
              "    <tr>\n",
              "      <th>3</th>\n",
              "      <td>3887</td>\n",
              "      <td>Side of Chips</td>\n",
              "      <td>1.69</td>\n",
              "    </tr>\n",
              "    <tr>\n",
              "      <th>4</th>\n",
              "      <td>2936</td>\n",
              "      <td>Chips</td>\n",
              "      <td>2.15</td>\n",
              "    </tr>\n",
              "    <tr>\n",
              "      <th>5</th>\n",
              "      <td>2972</td>\n",
              "      <td>Chips and Tomatillo Red Chili Salsa</td>\n",
              "      <td>2.39</td>\n",
              "    </tr>\n",
              "    <tr>\n",
              "      <th>6</th>\n",
              "      <td>235</td>\n",
              "      <td>Chips and Tomatillo Green Chili Salsa</td>\n",
              "      <td>2.95</td>\n",
              "    </tr>\n",
              "    <tr>\n",
              "      <th>7</th>\n",
              "      <td>1555</td>\n",
              "      <td>Chips and Roasted Chili Corn Salsa</td>\n",
              "      <td>2.95</td>\n",
              "    </tr>\n",
              "    <tr>\n",
              "      <th>8</th>\n",
              "      <td>3598</td>\n",
              "      <td>Chips and Fresh Tomato Salsa</td>\n",
              "      <td>2.95</td>\n",
              "    </tr>\n",
              "    <tr>\n",
              "      <th>9</th>\n",
              "      <td>674</td>\n",
              "      <td>Chips and Mild Fresh Tomato Salsa</td>\n",
              "      <td>3.00</td>\n",
              "    </tr>\n",
              "    <tr>\n",
              "      <th>10</th>\n",
              "      <td>601</td>\n",
              "      <td>Nantucket Nectar</td>\n",
              "      <td>3.39</td>\n",
              "    </tr>\n",
              "    <tr>\n",
              "      <th>11</th>\n",
              "      <td>1</td>\n",
              "      <td>Izze</td>\n",
              "      <td>3.39</td>\n",
              "    </tr>\n",
              "    <tr>\n",
              "      <th>12</th>\n",
              "      <td>4489</td>\n",
              "      <td>Chips and Guacamole</td>\n",
              "      <td>4.45</td>\n",
              "    </tr>\n",
              "    <tr>\n",
              "      <th>13</th>\n",
              "      <td>3389</td>\n",
              "      <td>6 Pack Soft Drink</td>\n",
              "      <td>6.49</td>\n",
              "    </tr>\n",
              "    <tr>\n",
              "      <th>14</th>\n",
              "      <td>445</td>\n",
              "      <td>Bowl</td>\n",
              "      <td>7.40</td>\n",
              "    </tr>\n",
              "    <tr>\n",
              "      <th>15</th>\n",
              "      <td>520</td>\n",
              "      <td>Crispy Tacos</td>\n",
              "      <td>7.40</td>\n",
              "    </tr>\n",
              "    <tr>\n",
              "      <th>16</th>\n",
              "      <td>1414</td>\n",
              "      <td>Salad</td>\n",
              "      <td>7.40</td>\n",
              "    </tr>\n",
              "    <tr>\n",
              "      <th>17</th>\n",
              "      <td>510</td>\n",
              "      <td>Burrito</td>\n",
              "      <td>7.40</td>\n",
              "    </tr>\n",
              "    <tr>\n",
              "      <th>18</th>\n",
              "      <td>1694</td>\n",
              "      <td>Veggie Salad</td>\n",
              "      <td>8.49</td>\n",
              "    </tr>\n",
              "    <tr>\n",
              "      <th>19</th>\n",
              "      <td>1653</td>\n",
              "      <td>Veggie Crispy Tacos</td>\n",
              "      <td>8.49</td>\n",
              "    </tr>\n",
              "    <tr>\n",
              "      <th>20</th>\n",
              "      <td>846</td>\n",
              "      <td>Veggie Bowl</td>\n",
              "      <td>8.49</td>\n",
              "    </tr>\n",
              "    <tr>\n",
              "      <th>21</th>\n",
              "      <td>3889</td>\n",
              "      <td>Veggie Soft Tacos</td>\n",
              "      <td>8.49</td>\n",
              "    </tr>\n",
              "    <tr>\n",
              "      <th>22</th>\n",
              "      <td>3334</td>\n",
              "      <td>Steak Bowl</td>\n",
              "      <td>8.69</td>\n",
              "    </tr>\n",
              "    <tr>\n",
              "      <th>23</th>\n",
              "      <td>217</td>\n",
              "      <td>Chicken Crispy Tacos</td>\n",
              "      <td>8.75</td>\n",
              "    </tr>\n",
              "    <tr>\n",
              "      <th>24</th>\n",
              "      <td>1254</td>\n",
              "      <td>Chicken Burrito</td>\n",
              "      <td>8.75</td>\n",
              "    </tr>\n",
              "    <tr>\n",
              "      <th>25</th>\n",
              "      <td>3750</td>\n",
              "      <td>Carnitas Salad</td>\n",
              "      <td>8.99</td>\n",
              "    </tr>\n",
              "    <tr>\n",
              "      <th>26</th>\n",
              "      <td>664</td>\n",
              "      <td>Steak Salad</td>\n",
              "      <td>8.99</td>\n",
              "    </tr>\n",
              "    <tr>\n",
              "      <th>27</th>\n",
              "      <td>2874</td>\n",
              "      <td>Steak Crispy Tacos</td>\n",
              "      <td>8.99</td>\n",
              "    </tr>\n",
              "    <tr>\n",
              "      <th>28</th>\n",
              "      <td>3890</td>\n",
              "      <td>Carnitas Crispy Tacos</td>\n",
              "      <td>8.99</td>\n",
              "    </tr>\n",
              "    <tr>\n",
              "      <th>29</th>\n",
              "      <td>2581</td>\n",
              "      <td>Carnitas Burrito</td>\n",
              "      <td>9.25</td>\n",
              "    </tr>\n",
              "    <tr>\n",
              "      <th>30</th>\n",
              "      <td>4354</td>\n",
              "      <td>Steak Soft Tacos</td>\n",
              "      <td>9.25</td>\n",
              "    </tr>\n",
              "    <tr>\n",
              "      <th>31</th>\n",
              "      <td>1255</td>\n",
              "      <td>Steak Burrito</td>\n",
              "      <td>9.25</td>\n",
              "    </tr>\n",
              "    <tr>\n",
              "      <th>32</th>\n",
              "      <td>1903</td>\n",
              "      <td>Barbacoa Crispy Tacos</td>\n",
              "      <td>9.25</td>\n",
              "    </tr>\n",
              "    <tr>\n",
              "      <th>33</th>\n",
              "      <td>409</td>\n",
              "      <td>Chicken Bowl</td>\n",
              "      <td>10.98</td>\n",
              "    </tr>\n",
              "    <tr>\n",
              "      <th>34</th>\n",
              "      <td>3658</td>\n",
              "      <td>Chicken Soft Tacos</td>\n",
              "      <td>10.98</td>\n",
              "    </tr>\n",
              "    <tr>\n",
              "      <th>35</th>\n",
              "      <td>250</td>\n",
              "      <td>Chicken Salad</td>\n",
              "      <td>10.98</td>\n",
              "    </tr>\n",
              "    <tr>\n",
              "      <th>36</th>\n",
              "      <td>186</td>\n",
              "      <td>Veggie Salad Bowl</td>\n",
              "      <td>11.25</td>\n",
              "    </tr>\n",
              "    <tr>\n",
              "      <th>37</th>\n",
              "      <td>3601</td>\n",
              "      <td>Veggie Burrito</td>\n",
              "      <td>11.25</td>\n",
              "    </tr>\n",
              "    <tr>\n",
              "      <th>38</th>\n",
              "      <td>135</td>\n",
              "      <td>Chicken Salad Bowl</td>\n",
              "      <td>11.25</td>\n",
              "    </tr>\n",
              "    <tr>\n",
              "      <th>39</th>\n",
              "      <td>130</td>\n",
              "      <td>Barbacoa Burrito</td>\n",
              "      <td>11.75</td>\n",
              "    </tr>\n",
              "    <tr>\n",
              "      <th>40</th>\n",
              "      <td>988</td>\n",
              "      <td>Barbacoa Soft Tacos</td>\n",
              "      <td>11.75</td>\n",
              "    </tr>\n",
              "    <tr>\n",
              "      <th>41</th>\n",
              "      <td>3480</td>\n",
              "      <td>Carnitas Bowl</td>\n",
              "      <td>11.75</td>\n",
              "    </tr>\n",
              "    <tr>\n",
              "      <th>42</th>\n",
              "      <td>1963</td>\n",
              "      <td>Carnitas Soft Tacos</td>\n",
              "      <td>11.75</td>\n",
              "    </tr>\n",
              "    <tr>\n",
              "      <th>43</th>\n",
              "      <td>39</td>\n",
              "      <td>Barbacoa Bowl</td>\n",
              "      <td>11.75</td>\n",
              "    </tr>\n",
              "    <tr>\n",
              "      <th>44</th>\n",
              "      <td>1229</td>\n",
              "      <td>Barbacoa Salad Bowl</td>\n",
              "      <td>11.89</td>\n",
              "    </tr>\n",
              "    <tr>\n",
              "      <th>45</th>\n",
              "      <td>281</td>\n",
              "      <td>Steak Salad Bowl</td>\n",
              "      <td>11.89</td>\n",
              "    </tr>\n",
              "    <tr>\n",
              "      <th>46</th>\n",
              "      <td>1132</td>\n",
              "      <td>Carnitas Salad Bowl</td>\n",
              "      <td>11.89</td>\n",
              "    </tr>\n",
              "  </tbody>\n",
              "</table>\n",
              "</div>\n",
              "      <button class=\"colab-df-convert\" onclick=\"convertToInteractive('df-1fceb49f-d98b-4324-8b51-206879e898ca')\"\n",
              "              title=\"Convert this dataframe to an interactive table.\"\n",
              "              style=\"display:none;\">\n",
              "        \n",
              "  <svg xmlns=\"http://www.w3.org/2000/svg\" height=\"24px\"viewBox=\"0 0 24 24\"\n",
              "       width=\"24px\">\n",
              "    <path d=\"M0 0h24v24H0V0z\" fill=\"none\"/>\n",
              "    <path d=\"M18.56 5.44l.94 2.06.94-2.06 2.06-.94-2.06-.94-.94-2.06-.94 2.06-2.06.94zm-11 1L8.5 8.5l.94-2.06 2.06-.94-2.06-.94L8.5 2.5l-.94 2.06-2.06.94zm10 10l.94 2.06.94-2.06 2.06-.94-2.06-.94-.94-2.06-.94 2.06-2.06.94z\"/><path d=\"M17.41 7.96l-1.37-1.37c-.4-.4-.92-.59-1.43-.59-.52 0-1.04.2-1.43.59L10.3 9.45l-7.72 7.72c-.78.78-.78 2.05 0 2.83L4 21.41c.39.39.9.59 1.41.59.51 0 1.02-.2 1.41-.59l7.78-7.78 2.81-2.81c.8-.78.8-2.07 0-2.86zM5.41 20L4 18.59l7.72-7.72 1.47 1.35L5.41 20z\"/>\n",
              "  </svg>\n",
              "      </button>\n",
              "      \n",
              "  <style>\n",
              "    .colab-df-container {\n",
              "      display:flex;\n",
              "      flex-wrap:wrap;\n",
              "      gap: 12px;\n",
              "    }\n",
              "\n",
              "    .colab-df-convert {\n",
              "      background-color: #E8F0FE;\n",
              "      border: none;\n",
              "      border-radius: 50%;\n",
              "      cursor: pointer;\n",
              "      display: none;\n",
              "      fill: #1967D2;\n",
              "      height: 32px;\n",
              "      padding: 0 0 0 0;\n",
              "      width: 32px;\n",
              "    }\n",
              "\n",
              "    .colab-df-convert:hover {\n",
              "      background-color: #E2EBFA;\n",
              "      box-shadow: 0px 1px 2px rgba(60, 64, 67, 0.3), 0px 1px 3px 1px rgba(60, 64, 67, 0.15);\n",
              "      fill: #174EA6;\n",
              "    }\n",
              "\n",
              "    [theme=dark] .colab-df-convert {\n",
              "      background-color: #3B4455;\n",
              "      fill: #D2E3FC;\n",
              "    }\n",
              "\n",
              "    [theme=dark] .colab-df-convert:hover {\n",
              "      background-color: #434B5C;\n",
              "      box-shadow: 0px 1px 3px 1px rgba(0, 0, 0, 0.15);\n",
              "      filter: drop-shadow(0px 1px 2px rgba(0, 0, 0, 0.3));\n",
              "      fill: #FFFFFF;\n",
              "    }\n",
              "  </style>\n",
              "\n",
              "      <script>\n",
              "        const buttonEl =\n",
              "          document.querySelector('#df-1fceb49f-d98b-4324-8b51-206879e898ca button.colab-df-convert');\n",
              "        buttonEl.style.display =\n",
              "          google.colab.kernel.accessAllowed ? 'block' : 'none';\n",
              "\n",
              "        async function convertToInteractive(key) {\n",
              "          const element = document.querySelector('#df-1fceb49f-d98b-4324-8b51-206879e898ca');\n",
              "          const dataTable =\n",
              "            await google.colab.kernel.invokeFunction('convertToInteractive',\n",
              "                                                     [key], {});\n",
              "          if (!dataTable) return;\n",
              "\n",
              "          const docLinkHtml = 'Like what you see? Visit the ' +\n",
              "            '<a target=\"_blank\" href=https://colab.research.google.com/notebooks/data_table.ipynb>data table notebook</a>'\n",
              "            + ' to learn more about interactive tables.';\n",
              "          element.innerHTML = '';\n",
              "          dataTable['output_type'] = 'display_data';\n",
              "          await google.colab.output.renderOutput(dataTable, element);\n",
              "          const docLink = document.createElement('div');\n",
              "          docLink.innerHTML = docLinkHtml;\n",
              "          element.appendChild(docLink);\n",
              "        }\n",
              "      </script>\n",
              "    </div>\n",
              "  </div>\n",
              "  "
            ],
            "text/plain": [
              "    index                              item_name  item_price\n",
              "0    2235                            Canned Soda        1.09\n",
              "1    3973                      Canned Soft Drink        1.25\n",
              "2    4152                          Bottled Water        1.50\n",
              "3    3887                          Side of Chips        1.69\n",
              "4    2936                                  Chips        2.15\n",
              "5    2972    Chips and Tomatillo Red Chili Salsa        2.39\n",
              "6     235  Chips and Tomatillo Green Chili Salsa        2.95\n",
              "7    1555     Chips and Roasted Chili Corn Salsa        2.95\n",
              "8    3598           Chips and Fresh Tomato Salsa        2.95\n",
              "9     674      Chips and Mild Fresh Tomato Salsa        3.00\n",
              "10    601                       Nantucket Nectar        3.39\n",
              "11      1                                   Izze        3.39\n",
              "12   4489                    Chips and Guacamole        4.45\n",
              "13   3389                      6 Pack Soft Drink        6.49\n",
              "14    445                                   Bowl        7.40\n",
              "15    520                           Crispy Tacos        7.40\n",
              "16   1414                                  Salad        7.40\n",
              "17    510                                Burrito        7.40\n",
              "18   1694                           Veggie Salad        8.49\n",
              "19   1653                    Veggie Crispy Tacos        8.49\n",
              "20    846                            Veggie Bowl        8.49\n",
              "21   3889                      Veggie Soft Tacos        8.49\n",
              "22   3334                             Steak Bowl        8.69\n",
              "23    217                   Chicken Crispy Tacos        8.75\n",
              "24   1254                        Chicken Burrito        8.75\n",
              "25   3750                         Carnitas Salad        8.99\n",
              "26    664                            Steak Salad        8.99\n",
              "27   2874                     Steak Crispy Tacos        8.99\n",
              "28   3890                  Carnitas Crispy Tacos        8.99\n",
              "29   2581                       Carnitas Burrito        9.25\n",
              "30   4354                       Steak Soft Tacos        9.25\n",
              "31   1255                          Steak Burrito        9.25\n",
              "32   1903                  Barbacoa Crispy Tacos        9.25\n",
              "33    409                           Chicken Bowl       10.98\n",
              "34   3658                     Chicken Soft Tacos       10.98\n",
              "35    250                          Chicken Salad       10.98\n",
              "36    186                      Veggie Salad Bowl       11.25\n",
              "37   3601                         Veggie Burrito       11.25\n",
              "38    135                     Chicken Salad Bowl       11.25\n",
              "39    130                       Barbacoa Burrito       11.75\n",
              "40    988                    Barbacoa Soft Tacos       11.75\n",
              "41   3480                          Carnitas Bowl       11.75\n",
              "42   1963                    Carnitas Soft Tacos       11.75\n",
              "43     39                          Barbacoa Bowl       11.75\n",
              "44   1229                    Barbacoa Salad Bowl       11.89\n",
              "45    281                       Steak Salad Bowl       11.89\n",
              "46   1132                    Carnitas Salad Bowl       11.89"
            ]
          },
          "metadata": {},
          "execution_count": 27
        }
      ]
    },
    {
      "cell_type": "code",
      "source": [
        "chipo.loc[chipo['item_name']== 'Carnitas Salad Bowl']"
      ],
      "metadata": {
        "colab": {
          "base_uri": "https://localhost:8080/",
          "height": 237
        },
        "id": "x0cO7N2SSHqO",
        "outputId": "ee61813b-2f70-4cd4-90d3-5fbab1690917"
      },
      "execution_count": 28,
      "outputs": [
        {
          "output_type": "execute_result",
          "data": {
            "text/html": [
              "\n",
              "  <div id=\"df-0f0cba95-ae0e-4ad5-b09f-7154aab67fc7\">\n",
              "    <div class=\"colab-df-container\">\n",
              "      <div>\n",
              "<style scoped>\n",
              "    .dataframe tbody tr th:only-of-type {\n",
              "        vertical-align: middle;\n",
              "    }\n",
              "\n",
              "    .dataframe tbody tr th {\n",
              "        vertical-align: top;\n",
              "    }\n",
              "\n",
              "    .dataframe thead th {\n",
              "        text-align: right;\n",
              "    }\n",
              "</style>\n",
              "<table border=\"1\" class=\"dataframe\">\n",
              "  <thead>\n",
              "    <tr style=\"text-align: right;\">\n",
              "      <th></th>\n",
              "      <th>order_id</th>\n",
              "      <th>quantity</th>\n",
              "      <th>item_name</th>\n",
              "      <th>choice_description</th>\n",
              "      <th>item_price</th>\n",
              "      <th>revenue</th>\n",
              "    </tr>\n",
              "  </thead>\n",
              "  <tbody>\n",
              "    <tr>\n",
              "      <th>1132</th>\n",
              "      <td>468</td>\n",
              "      <td>1</td>\n",
              "      <td>Carnitas Salad Bowl</td>\n",
              "      <td>[Fresh Tomato Salsa, [Rice, Black Beans, Chees...</td>\n",
              "      <td>11.89</td>\n",
              "      <td>11.89</td>\n",
              "    </tr>\n",
              "    <tr>\n",
              "      <th>1865</th>\n",
              "      <td>756</td>\n",
              "      <td>1</td>\n",
              "      <td>Carnitas Salad Bowl</td>\n",
              "      <td>[Fresh Tomato Salsa, [Rice, Cheese, Sour Cream]]</td>\n",
              "      <td>9.39</td>\n",
              "      <td>9.39</td>\n",
              "    </tr>\n",
              "    <tr>\n",
              "      <th>2610</th>\n",
              "      <td>1035</td>\n",
              "      <td>1</td>\n",
              "      <td>Carnitas Salad Bowl</td>\n",
              "      <td>[Roasted Chili Corn Salsa, [Fajita Vegetables,...</td>\n",
              "      <td>11.89</td>\n",
              "      <td>11.89</td>\n",
              "    </tr>\n",
              "    <tr>\n",
              "      <th>3115</th>\n",
              "      <td>1243</td>\n",
              "      <td>1</td>\n",
              "      <td>Carnitas Salad Bowl</td>\n",
              "      <td>[Tomatillo Green Chili Salsa, [Rice, Pinto Bea...</td>\n",
              "      <td>9.39</td>\n",
              "      <td>9.39</td>\n",
              "    </tr>\n",
              "    <tr>\n",
              "      <th>3749</th>\n",
              "      <td>1499</td>\n",
              "      <td>1</td>\n",
              "      <td>Carnitas Salad Bowl</td>\n",
              "      <td>[Roasted Chili Corn Salsa, [Fajita Vegetables,...</td>\n",
              "      <td>11.89</td>\n",
              "      <td>11.89</td>\n",
              "    </tr>\n",
              "    <tr>\n",
              "      <th>4239</th>\n",
              "      <td>1692</td>\n",
              "      <td>1</td>\n",
              "      <td>Carnitas Salad Bowl</td>\n",
              "      <td>[Tomatillo Green Chili Salsa, [Black Beans, Ch...</td>\n",
              "      <td>11.89</td>\n",
              "      <td>11.89</td>\n",
              "    </tr>\n",
              "  </tbody>\n",
              "</table>\n",
              "</div>\n",
              "      <button class=\"colab-df-convert\" onclick=\"convertToInteractive('df-0f0cba95-ae0e-4ad5-b09f-7154aab67fc7')\"\n",
              "              title=\"Convert this dataframe to an interactive table.\"\n",
              "              style=\"display:none;\">\n",
              "        \n",
              "  <svg xmlns=\"http://www.w3.org/2000/svg\" height=\"24px\"viewBox=\"0 0 24 24\"\n",
              "       width=\"24px\">\n",
              "    <path d=\"M0 0h24v24H0V0z\" fill=\"none\"/>\n",
              "    <path d=\"M18.56 5.44l.94 2.06.94-2.06 2.06-.94-2.06-.94-.94-2.06-.94 2.06-2.06.94zm-11 1L8.5 8.5l.94-2.06 2.06-.94-2.06-.94L8.5 2.5l-.94 2.06-2.06.94zm10 10l.94 2.06.94-2.06 2.06-.94-2.06-.94-.94-2.06-.94 2.06-2.06.94z\"/><path d=\"M17.41 7.96l-1.37-1.37c-.4-.4-.92-.59-1.43-.59-.52 0-1.04.2-1.43.59L10.3 9.45l-7.72 7.72c-.78.78-.78 2.05 0 2.83L4 21.41c.39.39.9.59 1.41.59.51 0 1.02-.2 1.41-.59l7.78-7.78 2.81-2.81c.8-.78.8-2.07 0-2.86zM5.41 20L4 18.59l7.72-7.72 1.47 1.35L5.41 20z\"/>\n",
              "  </svg>\n",
              "      </button>\n",
              "      \n",
              "  <style>\n",
              "    .colab-df-container {\n",
              "      display:flex;\n",
              "      flex-wrap:wrap;\n",
              "      gap: 12px;\n",
              "    }\n",
              "\n",
              "    .colab-df-convert {\n",
              "      background-color: #E8F0FE;\n",
              "      border: none;\n",
              "      border-radius: 50%;\n",
              "      cursor: pointer;\n",
              "      display: none;\n",
              "      fill: #1967D2;\n",
              "      height: 32px;\n",
              "      padding: 0 0 0 0;\n",
              "      width: 32px;\n",
              "    }\n",
              "\n",
              "    .colab-df-convert:hover {\n",
              "      background-color: #E2EBFA;\n",
              "      box-shadow: 0px 1px 2px rgba(60, 64, 67, 0.3), 0px 1px 3px 1px rgba(60, 64, 67, 0.15);\n",
              "      fill: #174EA6;\n",
              "    }\n",
              "\n",
              "    [theme=dark] .colab-df-convert {\n",
              "      background-color: #3B4455;\n",
              "      fill: #D2E3FC;\n",
              "    }\n",
              "\n",
              "    [theme=dark] .colab-df-convert:hover {\n",
              "      background-color: #434B5C;\n",
              "      box-shadow: 0px 1px 3px 1px rgba(0, 0, 0, 0.15);\n",
              "      filter: drop-shadow(0px 1px 2px rgba(0, 0, 0, 0.3));\n",
              "      fill: #FFFFFF;\n",
              "    }\n",
              "  </style>\n",
              "\n",
              "      <script>\n",
              "        const buttonEl =\n",
              "          document.querySelector('#df-0f0cba95-ae0e-4ad5-b09f-7154aab67fc7 button.colab-df-convert');\n",
              "        buttonEl.style.display =\n",
              "          google.colab.kernel.accessAllowed ? 'block' : 'none';\n",
              "\n",
              "        async function convertToInteractive(key) {\n",
              "          const element = document.querySelector('#df-0f0cba95-ae0e-4ad5-b09f-7154aab67fc7');\n",
              "          const dataTable =\n",
              "            await google.colab.kernel.invokeFunction('convertToInteractive',\n",
              "                                                     [key], {});\n",
              "          if (!dataTable) return;\n",
              "\n",
              "          const docLinkHtml = 'Like what you see? Visit the ' +\n",
              "            '<a target=\"_blank\" href=https://colab.research.google.com/notebooks/data_table.ipynb>data table notebook</a>'\n",
              "            + ' to learn more about interactive tables.';\n",
              "          element.innerHTML = '';\n",
              "          dataTable['output_type'] = 'display_data';\n",
              "          await google.colab.output.renderOutput(dataTable, element);\n",
              "          const docLink = document.createElement('div');\n",
              "          docLink.innerHTML = docLinkHtml;\n",
              "          element.appendChild(docLink);\n",
              "        }\n",
              "      </script>\n",
              "    </div>\n",
              "  </div>\n",
              "  "
            ],
            "text/plain": [
              "      order_id  quantity  ... item_price revenue\n",
              "1132       468         1  ...      11.89   11.89\n",
              "1865       756         1  ...       9.39    9.39\n",
              "2610      1035         1  ...      11.89   11.89\n",
              "3115      1243         1  ...       9.39    9.39\n",
              "3749      1499         1  ...      11.89   11.89\n",
              "4239      1692         1  ...      11.89   11.89\n",
              "\n",
              "[6 rows x 6 columns]"
            ]
          },
          "metadata": {},
          "execution_count": 28
        }
      ]
    },
    {
      "cell_type": "code",
      "source": [
        "chipo.loc[chipo['item_name']== 'Veggie Salad Bowl']"
      ],
      "metadata": {
        "colab": {
          "base_uri": "https://localhost:8080/",
          "height": 614
        },
        "id": "XV847GC-TsbS",
        "outputId": "2006eede-9c94-4594-b001-4a0859cabfa9"
      },
      "execution_count": 29,
      "outputs": [
        {
          "output_type": "execute_result",
          "data": {
            "text/html": [
              "\n",
              "  <div id=\"df-f8c8d712-eb6a-42fd-9457-01e0e5cd7c02\">\n",
              "    <div class=\"colab-df-container\">\n",
              "      <div>\n",
              "<style scoped>\n",
              "    .dataframe tbody tr th:only-of-type {\n",
              "        vertical-align: middle;\n",
              "    }\n",
              "\n",
              "    .dataframe tbody tr th {\n",
              "        vertical-align: top;\n",
              "    }\n",
              "\n",
              "    .dataframe thead th {\n",
              "        text-align: right;\n",
              "    }\n",
              "</style>\n",
              "<table border=\"1\" class=\"dataframe\">\n",
              "  <thead>\n",
              "    <tr style=\"text-align: right;\">\n",
              "      <th></th>\n",
              "      <th>order_id</th>\n",
              "      <th>quantity</th>\n",
              "      <th>item_name</th>\n",
              "      <th>choice_description</th>\n",
              "      <th>item_price</th>\n",
              "      <th>revenue</th>\n",
              "    </tr>\n",
              "  </thead>\n",
              "  <tbody>\n",
              "    <tr>\n",
              "      <th>186</th>\n",
              "      <td>83</td>\n",
              "      <td>1</td>\n",
              "      <td>Veggie Salad Bowl</td>\n",
              "      <td>[Fresh Tomato Salsa, [Fajita Vegetables, Rice,...</td>\n",
              "      <td>11.25</td>\n",
              "      <td>11.25</td>\n",
              "    </tr>\n",
              "    <tr>\n",
              "      <th>295</th>\n",
              "      <td>128</td>\n",
              "      <td>1</td>\n",
              "      <td>Veggie Salad Bowl</td>\n",
              "      <td>[Fresh Tomato Salsa, [Fajita Vegetables, Lettu...</td>\n",
              "      <td>11.25</td>\n",
              "      <td>11.25</td>\n",
              "    </tr>\n",
              "    <tr>\n",
              "      <th>455</th>\n",
              "      <td>195</td>\n",
              "      <td>1</td>\n",
              "      <td>Veggie Salad Bowl</td>\n",
              "      <td>[Fresh Tomato Salsa, [Fajita Vegetables, Rice,...</td>\n",
              "      <td>11.25</td>\n",
              "      <td>11.25</td>\n",
              "    </tr>\n",
              "    <tr>\n",
              "      <th>496</th>\n",
              "      <td>207</td>\n",
              "      <td>1</td>\n",
              "      <td>Veggie Salad Bowl</td>\n",
              "      <td>[Fresh Tomato Salsa, [Rice, Lettuce, Guacamole...</td>\n",
              "      <td>11.25</td>\n",
              "      <td>11.25</td>\n",
              "    </tr>\n",
              "    <tr>\n",
              "      <th>960</th>\n",
              "      <td>394</td>\n",
              "      <td>1</td>\n",
              "      <td>Veggie Salad Bowl</td>\n",
              "      <td>[Fresh Tomato Salsa, [Fajita Vegetables, Lettu...</td>\n",
              "      <td>8.75</td>\n",
              "      <td>8.75</td>\n",
              "    </tr>\n",
              "    <tr>\n",
              "      <th>1316</th>\n",
              "      <td>536</td>\n",
              "      <td>1</td>\n",
              "      <td>Veggie Salad Bowl</td>\n",
              "      <td>[Fresh Tomato Salsa, [Fajita Vegetables, Rice,...</td>\n",
              "      <td>8.75</td>\n",
              "      <td>8.75</td>\n",
              "    </tr>\n",
              "    <tr>\n",
              "      <th>1884</th>\n",
              "      <td>760</td>\n",
              "      <td>1</td>\n",
              "      <td>Veggie Salad Bowl</td>\n",
              "      <td>[Fresh Tomato Salsa, [Fajita Vegetables, Rice,...</td>\n",
              "      <td>11.25</td>\n",
              "      <td>11.25</td>\n",
              "    </tr>\n",
              "    <tr>\n",
              "      <th>2156</th>\n",
              "      <td>869</td>\n",
              "      <td>1</td>\n",
              "      <td>Veggie Salad Bowl</td>\n",
              "      <td>[Tomatillo Red Chili Salsa, [Fajita Vegetables...</td>\n",
              "      <td>11.25</td>\n",
              "      <td>11.25</td>\n",
              "    </tr>\n",
              "    <tr>\n",
              "      <th>2223</th>\n",
              "      <td>896</td>\n",
              "      <td>1</td>\n",
              "      <td>Veggie Salad Bowl</td>\n",
              "      <td>[Roasted Chili Corn Salsa, Fajita Vegetables]</td>\n",
              "      <td>8.75</td>\n",
              "      <td>8.75</td>\n",
              "    </tr>\n",
              "    <tr>\n",
              "      <th>2269</th>\n",
              "      <td>913</td>\n",
              "      <td>1</td>\n",
              "      <td>Veggie Salad Bowl</td>\n",
              "      <td>[Fresh Tomato Salsa, [Fajita Vegetables, Rice,...</td>\n",
              "      <td>8.75</td>\n",
              "      <td>8.75</td>\n",
              "    </tr>\n",
              "    <tr>\n",
              "      <th>2683</th>\n",
              "      <td>1066</td>\n",
              "      <td>1</td>\n",
              "      <td>Veggie Salad Bowl</td>\n",
              "      <td>[Roasted Chili Corn Salsa, [Fajita Vegetables,...</td>\n",
              "      <td>8.75</td>\n",
              "      <td>8.75</td>\n",
              "    </tr>\n",
              "    <tr>\n",
              "      <th>3223</th>\n",
              "      <td>1289</td>\n",
              "      <td>1</td>\n",
              "      <td>Veggie Salad Bowl</td>\n",
              "      <td>[Tomatillo Red Chili Salsa, [Fajita Vegetables...</td>\n",
              "      <td>11.25</td>\n",
              "      <td>11.25</td>\n",
              "    </tr>\n",
              "    <tr>\n",
              "      <th>3293</th>\n",
              "      <td>1321</td>\n",
              "      <td>1</td>\n",
              "      <td>Veggie Salad Bowl</td>\n",
              "      <td>[Fresh Tomato Salsa, [Rice, Black Beans, Chees...</td>\n",
              "      <td>8.75</td>\n",
              "      <td>8.75</td>\n",
              "    </tr>\n",
              "    <tr>\n",
              "      <th>4109</th>\n",
              "      <td>1646</td>\n",
              "      <td>1</td>\n",
              "      <td>Veggie Salad Bowl</td>\n",
              "      <td>[Tomatillo Red Chili Salsa, [Fajita Vegetables...</td>\n",
              "      <td>11.25</td>\n",
              "      <td>11.25</td>\n",
              "    </tr>\n",
              "    <tr>\n",
              "      <th>4201</th>\n",
              "      <td>1677</td>\n",
              "      <td>1</td>\n",
              "      <td>Veggie Salad Bowl</td>\n",
              "      <td>[Fresh Tomato Salsa, [Fajita Vegetables, Black...</td>\n",
              "      <td>11.25</td>\n",
              "      <td>11.25</td>\n",
              "    </tr>\n",
              "    <tr>\n",
              "      <th>4261</th>\n",
              "      <td>1700</td>\n",
              "      <td>1</td>\n",
              "      <td>Veggie Salad Bowl</td>\n",
              "      <td>[Fresh Tomato Salsa, [Fajita Vegetables, Rice,...</td>\n",
              "      <td>11.25</td>\n",
              "      <td>11.25</td>\n",
              "    </tr>\n",
              "    <tr>\n",
              "      <th>4541</th>\n",
              "      <td>1805</td>\n",
              "      <td>1</td>\n",
              "      <td>Veggie Salad Bowl</td>\n",
              "      <td>[Tomatillo Green Chili Salsa, [Fajita Vegetabl...</td>\n",
              "      <td>8.75</td>\n",
              "      <td>8.75</td>\n",
              "    </tr>\n",
              "    <tr>\n",
              "      <th>4573</th>\n",
              "      <td>1818</td>\n",
              "      <td>1</td>\n",
              "      <td>Veggie Salad Bowl</td>\n",
              "      <td>[Fresh Tomato Salsa, [Fajita Vegetables, Pinto...</td>\n",
              "      <td>8.75</td>\n",
              "      <td>8.75</td>\n",
              "    </tr>\n",
              "  </tbody>\n",
              "</table>\n",
              "</div>\n",
              "      <button class=\"colab-df-convert\" onclick=\"convertToInteractive('df-f8c8d712-eb6a-42fd-9457-01e0e5cd7c02')\"\n",
              "              title=\"Convert this dataframe to an interactive table.\"\n",
              "              style=\"display:none;\">\n",
              "        \n",
              "  <svg xmlns=\"http://www.w3.org/2000/svg\" height=\"24px\"viewBox=\"0 0 24 24\"\n",
              "       width=\"24px\">\n",
              "    <path d=\"M0 0h24v24H0V0z\" fill=\"none\"/>\n",
              "    <path d=\"M18.56 5.44l.94 2.06.94-2.06 2.06-.94-2.06-.94-.94-2.06-.94 2.06-2.06.94zm-11 1L8.5 8.5l.94-2.06 2.06-.94-2.06-.94L8.5 2.5l-.94 2.06-2.06.94zm10 10l.94 2.06.94-2.06 2.06-.94-2.06-.94-.94-2.06-.94 2.06-2.06.94z\"/><path d=\"M17.41 7.96l-1.37-1.37c-.4-.4-.92-.59-1.43-.59-.52 0-1.04.2-1.43.59L10.3 9.45l-7.72 7.72c-.78.78-.78 2.05 0 2.83L4 21.41c.39.39.9.59 1.41.59.51 0 1.02-.2 1.41-.59l7.78-7.78 2.81-2.81c.8-.78.8-2.07 0-2.86zM5.41 20L4 18.59l7.72-7.72 1.47 1.35L5.41 20z\"/>\n",
              "  </svg>\n",
              "      </button>\n",
              "      \n",
              "  <style>\n",
              "    .colab-df-container {\n",
              "      display:flex;\n",
              "      flex-wrap:wrap;\n",
              "      gap: 12px;\n",
              "    }\n",
              "\n",
              "    .colab-df-convert {\n",
              "      background-color: #E8F0FE;\n",
              "      border: none;\n",
              "      border-radius: 50%;\n",
              "      cursor: pointer;\n",
              "      display: none;\n",
              "      fill: #1967D2;\n",
              "      height: 32px;\n",
              "      padding: 0 0 0 0;\n",
              "      width: 32px;\n",
              "    }\n",
              "\n",
              "    .colab-df-convert:hover {\n",
              "      background-color: #E2EBFA;\n",
              "      box-shadow: 0px 1px 2px rgba(60, 64, 67, 0.3), 0px 1px 3px 1px rgba(60, 64, 67, 0.15);\n",
              "      fill: #174EA6;\n",
              "    }\n",
              "\n",
              "    [theme=dark] .colab-df-convert {\n",
              "      background-color: #3B4455;\n",
              "      fill: #D2E3FC;\n",
              "    }\n",
              "\n",
              "    [theme=dark] .colab-df-convert:hover {\n",
              "      background-color: #434B5C;\n",
              "      box-shadow: 0px 1px 3px 1px rgba(0, 0, 0, 0.15);\n",
              "      filter: drop-shadow(0px 1px 2px rgba(0, 0, 0, 0.3));\n",
              "      fill: #FFFFFF;\n",
              "    }\n",
              "  </style>\n",
              "\n",
              "      <script>\n",
              "        const buttonEl =\n",
              "          document.querySelector('#df-f8c8d712-eb6a-42fd-9457-01e0e5cd7c02 button.colab-df-convert');\n",
              "        buttonEl.style.display =\n",
              "          google.colab.kernel.accessAllowed ? 'block' : 'none';\n",
              "\n",
              "        async function convertToInteractive(key) {\n",
              "          const element = document.querySelector('#df-f8c8d712-eb6a-42fd-9457-01e0e5cd7c02');\n",
              "          const dataTable =\n",
              "            await google.colab.kernel.invokeFunction('convertToInteractive',\n",
              "                                                     [key], {});\n",
              "          if (!dataTable) return;\n",
              "\n",
              "          const docLinkHtml = 'Like what you see? Visit the ' +\n",
              "            '<a target=\"_blank\" href=https://colab.research.google.com/notebooks/data_table.ipynb>data table notebook</a>'\n",
              "            + ' to learn more about interactive tables.';\n",
              "          element.innerHTML = '';\n",
              "          dataTable['output_type'] = 'display_data';\n",
              "          await google.colab.output.renderOutput(dataTable, element);\n",
              "          const docLink = document.createElement('div');\n",
              "          docLink.innerHTML = docLinkHtml;\n",
              "          element.appendChild(docLink);\n",
              "        }\n",
              "      </script>\n",
              "    </div>\n",
              "  </div>\n",
              "  "
            ],
            "text/plain": [
              "      order_id  quantity  ... item_price revenue\n",
              "186         83         1  ...      11.25   11.25\n",
              "295        128         1  ...      11.25   11.25\n",
              "455        195         1  ...      11.25   11.25\n",
              "496        207         1  ...      11.25   11.25\n",
              "960        394         1  ...       8.75    8.75\n",
              "1316       536         1  ...       8.75    8.75\n",
              "1884       760         1  ...      11.25   11.25\n",
              "2156       869         1  ...      11.25   11.25\n",
              "2223       896         1  ...       8.75    8.75\n",
              "2269       913         1  ...       8.75    8.75\n",
              "2683      1066         1  ...       8.75    8.75\n",
              "3223      1289         1  ...      11.25   11.25\n",
              "3293      1321         1  ...       8.75    8.75\n",
              "4109      1646         1  ...      11.25   11.25\n",
              "4201      1677         1  ...      11.25   11.25\n",
              "4261      1700         1  ...      11.25   11.25\n",
              "4541      1805         1  ...       8.75    8.75\n",
              "4573      1818         1  ...       8.75    8.75\n",
              "\n",
              "[18 rows x 6 columns]"
            ]
          },
          "metadata": {},
          "execution_count": 29
        }
      ]
    },
    {
      "cell_type": "code",
      "source": [
        "chipo.loc[chipo['item_name']== 'Veggie Salad Bowl'].sum()"
      ],
      "metadata": {
        "colab": {
          "base_uri": "https://localhost:8080/"
        },
        "id": "0jsHpN5yUEHz",
        "outputId": "c3bdfb4b-f10b-4a98-85a6-79d47fc9c9bf"
      },
      "execution_count": 30,
      "outputs": [
        {
          "output_type": "execute_result",
          "data": {
            "text/plain": [
              "order_id                                                          17303\n",
              "quantity                                                             18\n",
              "item_name             Veggie Salad BowlVeggie Salad BowlVeggie Salad...\n",
              "choice_description    [Fresh Tomato Salsa, [Fajita Vegetables, Rice,...\n",
              "item_price                                                        182.5\n",
              "revenue                                                           182.5\n",
              "dtype: object"
            ]
          },
          "metadata": {},
          "execution_count": 30
        }
      ]
    },
    {
      "cell_type": "code",
      "source": [
        "a = chipo.groupby(['order_id','item_name'])['quantity'].sum().loc[1:,'Canned Soda'].sort_values(ascending=False)"
      ],
      "metadata": {
        "id": "kNbBc_VYUR63"
      },
      "execution_count": 63,
      "outputs": []
    },
    {
      "cell_type": "code",
      "source": [
        "b = a[a>=2]\n",
        "b"
      ],
      "metadata": {
        "id": "HaGjJX5hatsx",
        "outputId": "03dbfd56-f1b8-4781-aae4-01319afbb59c",
        "colab": {
          "base_uri": "https://localhost:8080/"
        }
      },
      "execution_count": 67,
      "outputs": [
        {
          "output_type": "execute_result",
          "data": {
            "text/plain": [
              "order_id  item_name  \n",
              "901       Canned Soda    4\n",
              "450       Canned Soda    4\n",
              "1156      Canned Soda    4\n",
              "787       Canned Soda    3\n",
              "108       Canned Soda    3\n",
              "287       Canned Soda    2\n",
              "151       Canned Soda    2\n",
              "1434      Canned Soda    2\n",
              "1396      Canned Soda    2\n",
              "1349      Canned Soda    2\n",
              "1258      Canned Soda    2\n",
              "288       Canned Soda    2\n",
              "1440      Canned Soda    2\n",
              "376       Canned Soda    2\n",
              "496       Canned Soda    2\n",
              "859       Canned Soda    2\n",
              "150       Canned Soda    2\n",
              "9         Canned Soda    2\n",
              "1550      Canned Soda    2\n",
              "81        Canned Soda    2\n",
              "1484      Canned Soda    2\n",
              "23        Canned Soda    2\n",
              "73        Canned Soda    2\n",
              "76        Canned Soda    2\n",
              "Name: quantity, dtype: int64"
            ]
          },
          "metadata": {},
          "execution_count": 67
        }
      ]
    },
    {
      "cell_type": "code",
      "source": [
        "len(b)\n"
      ],
      "metadata": {
        "colab": {
          "base_uri": "https://localhost:8080/"
        },
        "id": "YeaCei9yUnuY",
        "outputId": "aa3ba05a-2e63-4344-b9d6-f3ac98ed2d92"
      },
      "execution_count": 69,
      "outputs": [
        {
          "output_type": "execute_result",
          "data": {
            "text/plain": [
              "24"
            ]
          },
          "metadata": {},
          "execution_count": 69
        }
      ]
    },
    {
      "cell_type": "code",
      "source": [
        ""
      ],
      "metadata": {
        "id": "Y1CIRnwUW0GN"
      },
      "execution_count": 31,
      "outputs": []
    },
    {
      "cell_type": "code",
      "source": [
        ""
      ],
      "metadata": {
        "id": "xCkj6T9Xc1D0"
      },
      "execution_count": null,
      "outputs": []
    }
  ]
}