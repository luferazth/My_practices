{
  "nbformat": 4,
  "nbformat_minor": 0,
  "metadata": {
    "colab": {
      "name": "Solutions- Ntowers, Well-Nested, Consecutives-Numbers.IPYNB",
      "provenance": [],
      "collapsed_sections": [],
      "include_colab_link": true
    },
    "kernelspec": {
      "name": "python3",
      "display_name": "Python 3"
    },
    "language_info": {
      "name": "python"
    }
  },
  "cells": [
    {
      "cell_type": "markdown",
      "metadata": {
        "id": "view-in-github",
        "colab_type": "text"
      },
      "source": [
        "<a href=\"https://colab.research.google.com/github/luferazth/My_practices/blob/main/Solutions_Ntowers%2C_Well_Nested%2C_Consecutives_Numbers_IPYNB.ipynb\" target=\"_parent\"><img src=\"https://colab.research.google.com/assets/colab-badge.svg\" alt=\"Open In Colab\"/></a>"
      ]
    },
    {
      "cell_type": "markdown",
      "source": [
        "Estamos creando la funcion de las N-torres:\n",
        "donde debemos crear un algoritmo que nos cuenta las veces que el orden se \n",
        "repite en estos bloques. \n",
        "La siguiente función actúa como una especie de fábrica dirigida por for loops y alguna comprensión de lista o quizás un desempaquetado.\n",
        "La siguiente función se llama Solution(T): que hace lo explicado."
      ],
      "metadata": {
        "id": "2sZU5bDQQokJ"
      }
    },
    {
      "cell_type": "code",
      "execution_count": null,
      "metadata": {
        "id": "763eKd___L5_"
      },
      "outputs": [],
      "source": [
        "T = [\"aab\", \"cab\", \"baa\", \"baa\"]"
      ]
    },
    {
      "cell_type": "code",
      "source": [
        "T2 = [\"zzz\", \"zbz\", \"zbz\", \"dgf\"]"
      ],
      "metadata": {
        "id": "2EGA7mhgKVJW"
      },
      "execution_count": null,
      "outputs": []
    },
    {
      "cell_type": "code",
      "source": [
        "T3 =['abc', 'cba', 'cab', 'bac', 'bca']"
      ],
      "metadata": {
        "id": "rT_7ycpzMs9r"
      },
      "execution_count": null,
      "outputs": []
    },
    {
      "cell_type": "code",
      "source": [
        "def Solution(T):\n",
        "  import numpy as np\n",
        "  \"\"\"\n",
        "  IF YOU PASS A LIST OF STRINGS WHERE A SWAP IS DONE OR NOT, THAT TELLS YOU THE\n",
        "  MAXIMUM REPEATED ORDER OF BLOCKS\n",
        "  \"\"\"\n",
        "  lista_ = []\n",
        "  def swap_string(string):\n",
        "    x,y,z = list(string)\n",
        "    if (x==y) and (y!=z):\n",
        "      return str(x+z+y)\n",
        "    elif (y==z) and (x!=y):\n",
        "      return str(y+x+z)\n",
        "    elif (x!=y) and (y!=z):\n",
        "      return str(x+y+z),str(y+x+z), str(x+z+y)\n",
        "    else:\n",
        "      return str(x+y+z)\n",
        "  \n",
        "##  Las condiciones son tales que si los números coinciden en magnitud no es\n",
        "## computacionalmente necesario hacer un swap.\n",
        "## Otra  cosa es que estamos ante un problema de algebra linear de una matriz\n",
        "## de rango (3,N), es decir si hay una cantidad M de variables y además M > N,\n",
        "## entonces el swap no será necesario del todo. porque habría más variables que\n",
        "## grados de libertad.\n",
        "\n",
        "  for elemento in T:\n",
        "    lista_.append(swap_string(elemento))\n",
        "  A = list(np.array(lista_).flatten())\n",
        "  return max([A.count(value) for value in A])\n",
        "     \n",
        "## Luego el código transforma a una lista 1-D para que podamos contar los\n",
        "## valores one by one, cuyo orden se repite el máximo de veces luego de un swap\n",
        "## o de no hacer swap. =).\n",
        "##\n",
        "   \n"
      ],
      "metadata": {
        "id": "guCLcimnRNSV"
      },
      "execution_count": null,
      "outputs": []
    },
    {
      "cell_type": "code",
      "source": [
        ""
      ],
      "metadata": {
        "id": "OLHfHGbOnJiu"
      },
      "execution_count": null,
      "outputs": []
    },
    {
      "cell_type": "code",
      "source": [
        "\n",
        "S = \"[{()}]\""
      ],
      "metadata": {
        "id": "KirpPtnHlaBe"
      },
      "execution_count": null,
      "outputs": []
    },
    {
      "cell_type": "code",
      "source": [
        "S = \"[{(})]\""
      ],
      "metadata": {
        "id": "wI0tE8rFt0UJ"
      },
      "execution_count": null,
      "outputs": []
    },
    {
      "cell_type": "code",
      "source": [
        "def Solution(S):\n",
        "  \"\"\"\n",
        "  FUNCTION THAT ALLOWS TO LET US KNOW IF STRINGS ARE WELL NESTED OR NOT BY \n",
        "  RETURNING TRUE OR FALSE IF IT'S WELL NESTED.\n",
        "  MAYBE THERE IS SOME EASY WAY TO ONE LINE THIS PROBLEM BUT NEED TO COMPARED\n",
        "  SYMBOLS BY HALF RANGE\n",
        "  \"\"\"\n",
        "  diccionario = {'(': ')', '[': ']', '{': '}'}\n",
        "  ####### El algoritmo funciona de la siguiente manera:\n",
        "  ####### definimos un diccionario clave valor con los simbolos (igual creo que se puede mejorar)\n",
        " \n",
        "  ####### Los for loops nos ayudan a ver que cada elemento hasta la mitad del string se corresponde\n",
        "  ####### a las claves del diccionario y luego todo elemento de más de la mitad del string se corresponden con\n",
        "  ####### los valores del diccionario.\n",
        "\n",
        "  ##### Se añade en una lista si estan bien aninados todos los elementos de strings\n",
        "  ##### Y finalmente si todos están bien anidados entonces la funcion devuelve 1\n",
        "  ###### Y sino, devuelve 0.\n",
        "\n",
        "  N = len(S)\n",
        "  half = int(N/2) \n",
        "  lista_final = []\n",
        "  for clave, valor in diccionario.items():\n",
        "    for indice in range(half+1):\n",
        "      if S[indice] == clave:\n",
        "        if S[N-indice-1] == valor:\n",
        "          lista_final.append(1)\n",
        "        else:\n",
        "          lista_final.append(0)\n",
        "  if 0 in lista_final:\n",
        "    return 0\n",
        "  else:\n",
        "    return 1"
      ],
      "metadata": {
        "id": "xvog4ty1rCoO"
      },
      "execution_count": null,
      "outputs": []
    },
    {
      "cell_type": "code",
      "source": [
        "def Solution(nums, k): \n",
        "  \"\"\"\n",
        "  THE FUNCTION RETURNS TRUE IN CASE YOU CAN SPLIT AN ARRAY IN GROUPS OF K-UNITS.\n",
        "  ELSE RETURN FALSE.  \n",
        "  \"\"\"\n",
        "  #########################\n",
        "  ########## La función crea listas que contengan todos los números del array dado\n",
        "  ########## generados por un List(range(nums[0], nums[0]+k)), debido a que \n",
        "  ########## son números consecutivos, un range nos permite hacer eso,\n",
        "  ########## luego eliminamos los elementos de ese range que se encuentren en nums ya que están ordenados y,\n",
        "  ########## volvemos a coger la variable List(range(nums[0], nums[0]+k))\n",
        "  ########## para que GENERE las listas subsiguientes.\n",
        "  lista_k = []\n",
        "  grupos_totales = int(len(nums)/k)\n",
        "  nums = sorted(nums)\n",
        " \n",
        "  if len(nums) % k == 0:\n",
        "    print('You can do the split')\n",
        "    for i in range(grupos_totales):\n",
        "      lista = list(range(nums[0],nums[0]+k))\n",
        "      lista_k.append(lista)\n",
        "      for element in lista:\n",
        "        if element in nums:\n",
        "          nums.remove(element)\n",
        "\n",
        "        \n",
        "  if (len(lista_k) == grupos_totales) and (len(nums) ==0):\n",
        "    return True, print(lista_k)\n",
        "  else:\n",
        "    return False , print('No way to do the split')\n",
        "\n",
        "      \n",
        "\n"
      ],
      "metadata": {
        "id": "Z4SHfyBj4CK3"
      },
      "execution_count": 79,
      "outputs": []
    },
    {
      "cell_type": "code",
      "source": [
        "Solution([3,2,1,2,3,4,3,4,5,9,10,11,12,13,14], 3)"
      ],
      "metadata": {
        "colab": {
          "base_uri": "https://localhost:8080/"
        },
        "id": "El0HMJTFqZvV",
        "outputId": "2be89eb1-116f-437c-a5c8-9f2b684e9720"
      },
      "execution_count": 82,
      "outputs": [
        {
          "output_type": "stream",
          "name": "stdout",
          "text": [
            "You can do the split\n",
            "[[1, 2, 3], [2, 3, 4], [3, 4, 5], [9, 10, 11], [12, 13, 14]]\n"
          ]
        },
        {
          "output_type": "execute_result",
          "data": {
            "text/plain": [
              "(True, None)"
            ]
          },
          "metadata": {},
          "execution_count": 82
        }
      ]
    },
    {
      "cell_type": "code",
      "source": [
        "nums = [1,2,3,4]\n",
        "k = 3\n",
        "Solution([1,2,3,4],3)"
      ],
      "metadata": {
        "colab": {
          "base_uri": "https://localhost:8080/"
        },
        "id": "65pNl0nZsEn8",
        "outputId": "03295189-fb19-498a-d883-0642c5aeb33e"
      },
      "execution_count": 81,
      "outputs": [
        {
          "output_type": "stream",
          "name": "stdout",
          "text": [
            "No way to do the split\n"
          ]
        },
        {
          "output_type": "execute_result",
          "data": {
            "text/plain": [
              "(False, None)"
            ]
          },
          "metadata": {},
          "execution_count": 81
        }
      ]
    },
    {
      "cell_type": "code",
      "source": [
        "def calculate_n(price_ether_EU, new_verifications):\n",
        "  \n",
        "\n",
        "\n",
        "\n",
        "\n",
        "  return price_ether_EU / new_verifications"
      ],
      "metadata": {
        "id": "S7zyWBP9izk2"
      },
      "execution_count": 3,
      "outputs": []
    },
    {
      "cell_type": "code",
      "source": [
        "calculate_n(3000,1000000000)"
      ],
      "metadata": {
        "colab": {
          "base_uri": "https://localhost:8080/"
        },
        "id": "tnAyGRXovQUt",
        "outputId": "ab80f8d2-1607-4f04-b419-ecb44a644159"
      },
      "execution_count": 4,
      "outputs": [
        {
          "output_type": "execute_result",
          "data": {
            "text/plain": [
              "3e-06"
            ]
          },
          "metadata": {},
          "execution_count": 4
        }
      ]
    },
    {
      "cell_type": "code",
      "source": [
        "round(0.10/2600, 10)"
      ],
      "metadata": {
        "colab": {
          "base_uri": "https://localhost:8080/"
        },
        "id": "TGEImMg05FlN",
        "outputId": "c5d9feee-7d26-4d62-8869-eb7bd0b3d714"
      },
      "execution_count": 8,
      "outputs": [
        {
          "output_type": "execute_result",
          "data": {
            "text/plain": [
              "3.84615e-05"
            ]
          },
          "metadata": {},
          "execution_count": 8
        }
      ]
    },
    {
      "cell_type": "code",
      "source": [
        ""
      ],
      "metadata": {
        "id": "1TnJmUe3_C2d"
      },
      "execution_count": null,
      "outputs": []
    }
  ]
}