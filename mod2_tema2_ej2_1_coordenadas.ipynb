{
  "cells": [
    {
      "cell_type": "markdown",
      "metadata": {
        "id": "view-in-github",
        "colab_type": "text"
      },
      "source": [
        "<a href=\"https://colab.research.google.com/github/luferazth/My_practices/blob/main/mod2_tema2_ej2_1_coordenadas.ipynb\" target=\"_parent\"><img src=\"https://colab.research.google.com/assets/colab-badge.svg\" alt=\"Open In Colab\"/></a>"
      ]
    },
    {
      "cell_type": "markdown",
      "metadata": {
        "id": "0UUixtE567XA"
      },
      "source": [
        "#### Ejercicio 2.1: los conceptos\n",
        "\n",
        "En este ejercicio vas a trabajar el concepto de puntos, coordenadas y vectores sobre el plano cartesiano y cómo la programación Orientada a Objetos puede ser una excelente aliada para trabajar con ellos. No está pensado para que hagas ningún tipo de cálculo sino para que practiques la automatización de tareas.\n",
        "\n",
        "**Antes de continuar voy a explicar brevemente los conceptos básicos por si alguien necesita un repaso.**\n",
        "\n",
        "#### El plano cartesiano\n",
        "\n",
        "Representa un espacio bidimensional (en 2 dimensiones), formado por dos rectas perpendiculares, una horizontal y otra vertical que se cortan en un punto. La recta horizontal se denomina eje de las abscisas o **eje X**, mientras que la vertical recibe el nombre de eje de las ordenadas o simplemente **eje Y**. En cuanto al punto donde se cortan, se conoce como el **punto de origen O**.\n",
        "\n",
        "![coordinate-plane](https://www.onlinemathlearning.com/image-files/coordinate-plane.png \"coordinate-plane\")\n",
        "\n",
        "Es importante remarcar que el plano se divide en 4 cuadrantes:\n",
        "\n",
        "![quadrants](https://www.onlinemathlearning.com/image-files/quadrants.png \"quadrants\")\n",
        "\n",
        "\n",
        "#### Puntos y coordenadas\n",
        "\n",
        "El objetivo de todo esto es describir la posición de **puntos** sobre el plano en forma de **coordenadas**, que se forman asociando el valor del eje de las X (horizontal) con el valor del eje Y (vertical).\n",
        "\n",
        "La representación de un punto es sencilla: **P(X,Y)** dónde X y la Y son la distancia horizontal (izquierda o derecha) y vertical (arriba o abajo) respectivamente, utilizando como referencia el punto de origen (0,0), justo en el centro del plano.\n",
        "\n",
        "![coordinategeo1](https://www.onlinemathlearning.com/image-files/coordinategeo1.jpg \"coordinategeo1\")\n",
        "\n",
        "\n",
        "#### Vectores en el plano\n",
        "\n",
        "Finalmente, un vector en el plano hace referencia a un segmento orientado, generado a partir de dos puntos distintos. \n",
        "\n",
        "A efectos prácticos no deja de ser una línea formada desde un punto inicial en dirección a otro punto final, por lo que se entiende que un vector tiene longitud y dirección/sentido.\n",
        "\n",
        "![position-vector1.jpg](./position-vector1.jpg)\n",
        "\n",
        "En esta figura, podemos observar dos puntos A y B que podríamos definir de la siguiente forma:\n",
        "* **A(x1, y1)** => **A(3, 7)**\n",
        "* **B(x2, y2)** => **B(8, 4)**\n",
        "\n",
        "Y el vector en rojo se representaría como la diferencia entre las coordendas del segundo punto respecto al primero (el segundo menos el primero):\n",
        "* **AB = (x2-x1, y2-y1)** => **(8-3, 4-7)** => **(5, -3)** \n",
        "\n",
        "Lo que en definitiva no deja de ser: 5 a la derecha y 3 abajo.\n",
        "\n",
        "Y con esto finalizamos este mini repaso."
      ]
    },
    {
      "cell_type": "markdown",
      "metadata": {
        "id": "VkmvmmR267XP"
      },
      "source": [
        "#### Ejercicio 2.1: el ejercicio\n",
        "\n",
        "#### Preparación\n",
        "\n",
        "* Crea una clase llamada **Punto** con sus dos coordenadas X e Y.\n",
        "* Añade un método **constructor** para crear puntos fácilmente. Si no se reciben una coordenada, su valor será cero.\n",
        "* Sobreescribe el método **string**, para que al imprimir por pantalla un punto aparezca en formato (X,Y)\n",
        "* Añade un método llamado **cuadrante** que indique a qué cuadrante pertenece el punto, o si es el origen.\n",
        "* Añade un método llamado **vector**, que tome otro punto y calcule el vector resultante entre los dos puntos.\n",
        "* (Optativo) Añade un método llamado **distancia**, que tome otro punto y calcule la distancia entre los dos puntos y la muestre por pantalla. La fórmula es la siguiente:\n",
        "\n",
        "$$\\sqrt{(x_2-x_1)^2 + (y_2-y_1)^2}$$\n",
        "\n",
        "*Nota: La función raíz cuadrada en Python sqrt() se debe importar del módulo math y utilizarla de la siguiente forma:*\n",
        "```python\n",
        "import math\n",
        "math.sqrt(9)\n",
        "> 3.0\n",
        "```\n",
        "\n",
        "* Crea una clase llamada **Rectangulo** con dos puntos (inicial y final) que formarán la diagonal del rectángulo.\n",
        "* Añade un método **constructor** para crear ambos puntos fácilmente, si no se envían se crearán dos puntos en el origen por defecto.\n",
        "* Añade al rectángulo un método llamado **base** que muestre la base.\n",
        "* Añade al rectángulo un método llamado **altura** que muestre la altura.\n",
        "* Añade al rectángulo un método llamado **area** que muestre el area.\n",
        "\n",
        "*Puedes identificar fácilmente estos valores si intentas dibujar el cuadrado a partir de su  diagonal. Si andas perdido, prueba de dibujarlo en un papel, ¡seguro que lo verás mucho más claro! Además recuerda que puedes utilizar la función **abs()** para saber el valor absolute de un número.*\n",
        "\n",
        "#### Experimentación\n",
        "* Crea los puntos A(2, 3),  B(5,5), C(-3, -1) y D(0,0) e imprimelos por pantalla.\n",
        "* Consulta a que cuadrante pertenecen el punto A, C y D.\n",
        "* Consulta los vectores AB y BA.\n",
        "* (Optativo) Consulta la distancia entre los puntos 'A y B' y 'B y A'. \n",
        "* (Optativo) Determina cual de los 3 puntos A, B o C, se encuentra más lejos del origen, punto (0,0). \n",
        "* Crea un rectángulo utilizando los puntos A y B.\n",
        "* Consulta la base, altura y área del rectángulo."
      ]
    },
    {
      "cell_type": "code",
      "source": [
        "from IPython.core.interactiveshell import InteractiveShell\n",
        "InteractiveShell.ast_node_interactivity = \"all\""
      ],
      "metadata": {
        "id": "jT5rfNhjgEms"
      },
      "execution_count": 1,
      "outputs": []
    },
    {
      "cell_type": "code",
      "source": [
        "class Punto:\n",
        "  \"\"\"\n",
        "  Creates a point into a 2-Dimensional Space\n",
        "  \"\"\"\n",
        "\n",
        "  def __init__(self, x =0 , y = 0):\n",
        "    self.x = x\n",
        "    self.y = y\n",
        "  def __str__(self):\n",
        "    return f\"({self.x},{self.y})\"\n",
        "  \n",
        "  def cuadrante(self):\n",
        "    if self.x > 0 and self.y > 0:\n",
        "      return f\"Estas en el 1er cuadrante\"\n",
        "    elif self.x > 0 and self.y < 0:\n",
        "      return f\"Estas en el 4to cuadrante\"\n",
        "    elif self.x < 0 and self.y > 0:\n",
        "      return f\"Estas en el 2do cuadrante\"\n",
        "    elif self.x < 0 and self.y < 0:\n",
        "      return f\"Estas en el 3er cuadrante\"\n",
        "    elif self.x == 0 and self.y != 0:\n",
        "      return f\" Estas en el eje Y\"\n",
        "    elif self.x != 0 and self.y == 0:\n",
        "      return f\"Estas en el eje X\"\n",
        "    else:\n",
        "      return f\"Estas en el origen\"\n",
        "\n",
        "  def vector(self, other_point):\n",
        "    u = other_point.get_x()\n",
        "    v = other_point.get_y()\n",
        "    return u - self.x , v - self.y\n",
        "\n",
        "  def distancia(self, other_point):\n",
        "    u = other_point.get_x()\n",
        "    v = other_point.get_y()\n",
        "    return  round(( (u - self.x)**2 + (v - self.y)**2 )**(1/2),2)\n",
        "\n",
        "  def get_x(self):\n",
        "    return self.x\n",
        "  def get_y(self):\n",
        "    return self.y"
      ],
      "metadata": {
        "id": "A1XmbKXSOaWp"
      },
      "execution_count": 2,
      "outputs": []
    },
    {
      "cell_type": "markdown",
      "source": [
        "Definimos la clase y ahora los puntos y las pruebas\n"
      ],
      "metadata": {
        "id": "JTEmqTmBiZoO"
      }
    },
    {
      "cell_type": "code",
      "source": [
        "#Vemos los puntos\n",
        "A = Punto\n",
        "A = A(2, 3)\n",
        "B = Punto\n",
        "B = B(5,5)\n",
        "C = Punto\n",
        "C = C(-3, -1)\n",
        "D = Punto\n",
        "D = D(0,0)\n",
        "print(A, B, C, D)"
      ],
      "metadata": {
        "colab": {
          "base_uri": "https://localhost:8080/"
        },
        "id": "KxHUffccaG7b",
        "outputId": "595924f7-fa3e-4d6a-a858-e902706c20bf"
      },
      "execution_count": 3,
      "outputs": [
        {
          "output_type": "stream",
          "name": "stdout",
          "text": [
            "(2,3) (5,5) (-3,-1) (0,0)\n"
          ]
        }
      ]
    },
    {
      "cell_type": "code",
      "source": [
        "#vemos los cuadrantes\n",
        "A.cuadrante(), C.cuadrante(), D.cuadrante()"
      ],
      "metadata": {
        "colab": {
          "base_uri": "https://localhost:8080/"
        },
        "id": "JQE-pxxqc2la",
        "outputId": "bebf6e9d-dff7-4693-932c-bfd9b16b8f0b"
      },
      "execution_count": 4,
      "outputs": [
        {
          "output_type": "execute_result",
          "data": {
            "text/plain": [
              "('Estas en el 1er cuadrante',\n",
              " 'Estas en el 3er cuadrante',\n",
              " 'Estas en el origen')"
            ]
          },
          "metadata": {},
          "execution_count": 4
        }
      ]
    },
    {
      "cell_type": "code",
      "source": [
        "#los vectores\n",
        "A.vector(B), B.vector(A)"
      ],
      "metadata": {
        "colab": {
          "base_uri": "https://localhost:8080/"
        },
        "id": "493icSzmdI4C",
        "outputId": "2d8fdedb-bcef-44ba-a376-2ddbf1987af6"
      },
      "execution_count": 5,
      "outputs": [
        {
          "output_type": "execute_result",
          "data": {
            "text/plain": [
              "((3, 2), (-3, -2))"
            ]
          },
          "metadata": {},
          "execution_count": 5
        }
      ]
    },
    {
      "cell_type": "code",
      "source": [
        "#las distancias. es la misma para ambos lados\n",
        "A.distancia(B), B.distancia(A)"
      ],
      "metadata": {
        "colab": {
          "base_uri": "https://localhost:8080/"
        },
        "id": "o1vrxy4TeKkR",
        "outputId": "fb1d38bf-5750-4e15-b7a3-7fac816f72cc"
      },
      "execution_count": 6,
      "outputs": [
        {
          "output_type": "execute_result",
          "data": {
            "text/plain": [
              "(3.61, 3.61)"
            ]
          },
          "metadata": {},
          "execution_count": 6
        }
      ]
    },
    {
      "cell_type": "code",
      "source": [
        "O = Punto(0,0) # creamos el origen en la variable O"
      ],
      "metadata": {
        "id": "mY_enL89enQR"
      },
      "execution_count": 7,
      "outputs": []
    },
    {
      "cell_type": "code",
      "source": [
        "f\"-Distancia al origen del punto A : {O.distancia(A)}\"\n",
        "f\"-Distancia al origen del punto B : {O.distancia(B)}\"\n",
        "f\"-Distancia al origen del punto C : {O.distancia(C)}\""
      ],
      "metadata": {
        "colab": {
          "base_uri": "https://localhost:8080/",
          "height": 36
        },
        "id": "QSeopuf-eqTG",
        "outputId": "30faa07b-1782-4e73-a3be-09fe74a75857"
      },
      "execution_count": 8,
      "outputs": [
        {
          "output_type": "execute_result",
          "data": {
            "application/vnd.google.colaboratory.intrinsic+json": {
              "type": "string"
            },
            "text/plain": [
              "'-Distancia al origen del punto A : 3.61'"
            ]
          },
          "metadata": {},
          "execution_count": 8
        },
        {
          "output_type": "execute_result",
          "data": {
            "application/vnd.google.colaboratory.intrinsic+json": {
              "type": "string"
            },
            "text/plain": [
              "'-Distancia al origen del punto B : 7.07'"
            ]
          },
          "metadata": {},
          "execution_count": 8
        },
        {
          "output_type": "execute_result",
          "data": {
            "application/vnd.google.colaboratory.intrinsic+json": {
              "type": "string"
            },
            "text/plain": [
              "'-Distancia al origen del punto C : 3.16'"
            ]
          },
          "metadata": {},
          "execution_count": 8
        }
      ]
    },
    {
      "cell_type": "code",
      "source": [
        "#Obtenemos distancias basadas en el metodo distancias entre vectores"
      ],
      "metadata": {
        "id": "CR6Yex5yio_U"
      },
      "execution_count": 9,
      "outputs": []
    },
    {
      "cell_type": "code",
      "source": [
        "class rectangulo:\n",
        "  \"\"\"\n",
        "  Rectangulo agrupa puntos diagonalmente y luego obtenemos sus características básicas.\n",
        "  \"\"\"\n",
        "\n",
        "  def __init__(self, A = 0, B = 0):\n",
        "    self.A = A\n",
        "    self.B = B\n",
        "\n",
        "  def base(self):\n",
        "    base = abs(self.B.get_x() - self.A.get_x())\n",
        "    return base\n",
        "  \n",
        "  def altura(self):\n",
        "    altura = abs(self.B.get_y() - self.A.get_y())\n",
        "    return altura\n",
        "  \n",
        "  def area(self):\n",
        "    return self.base() * self.altura()\n",
        "\n",
        "  def __str__(self):\n",
        "    return f\" A = {self.A}, B = {self.B}\"\n",
        "\n",
        "  "
      ],
      "metadata": {
        "id": "qdBoPqbCSqWM"
      },
      "execution_count": 10,
      "outputs": []
    },
    {
      "cell_type": "code",
      "source": [
        "rec1 = rectangulo(A, B)"
      ],
      "metadata": {
        "id": "h21iZvnCW3I5"
      },
      "execution_count": 11,
      "outputs": []
    },
    {
      "cell_type": "code",
      "source": [
        "print(rec1.base())\n",
        "print(rec1.altura())\n",
        "print(rec1.area())"
      ],
      "metadata": {
        "colab": {
          "base_uri": "https://localhost:8080/"
        },
        "id": "cGBksci5a3pi",
        "outputId": "1c211ba6-bc67-461d-f436-340bdd1aa4fa"
      },
      "execution_count": 12,
      "outputs": [
        {
          "output_type": "stream",
          "name": "stdout",
          "text": [
            "3\n",
            "2\n",
            "6\n"
          ]
        }
      ]
    }
  ],
  "metadata": {
    "kernelspec": {
      "display_name": "Python 3",
      "language": "python",
      "name": "python3"
    },
    "language_info": {
      "codemirror_mode": {
        "name": "ipython",
        "version": 3
      },
      "file_extension": ".py",
      "mimetype": "text/x-python",
      "name": "python",
      "nbconvert_exporter": "python",
      "pygments_lexer": "ipython3",
      "version": "3.8.5"
    },
    "colab": {
      "name": "mod2.tema2.ej2.1-coordenadas.ipynb",
      "provenance": [],
      "include_colab_link": true
    }
  },
  "nbformat": 4,
  "nbformat_minor": 0
}