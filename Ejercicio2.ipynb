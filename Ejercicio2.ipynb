{
  "nbformat": 4,
  "nbformat_minor": 0,
  "metadata": {
    "colab": {
      "name": "Ejercicio2",
      "provenance": [],
      "authorship_tag": "ABX9TyOVftaTd4SjgHOdao0L3EXC",
      "include_colab_link": true
    },
    "kernelspec": {
      "name": "python3",
      "display_name": "Python 3"
    },
    "language_info": {
      "name": "python"
    }
  },
  "cells": [
    {
      "cell_type": "markdown",
      "metadata": {
        "id": "view-in-github",
        "colab_type": "text"
      },
      "source": [
        "<a href=\"https://colab.research.google.com/github/luferazth/My_practices/blob/main/Ejercicio2.ipynb\" target=\"_parent\"><img src=\"https://colab.research.google.com/assets/colab-badge.svg\" alt=\"Open In Colab\"/></a>"
      ]
    },
    {
      "cell_type": "code",
      "source": [
        "torres = [\"zzz\", \"zbz\", \"zbz\", \"dgf\"]"
      ],
      "metadata": {
        "id": "_F4-7h0KRo-k"
      },
      "execution_count": 397,
      "outputs": []
    },
    {
      "cell_type": "code",
      "source": [
        "from itertools import permutations as p\n",
        "from itertools import combinations as c\n",
        "\n",
        "def permite_el_swap(torres):\n",
        "  s =\"\"\n",
        "  for string in torres:\n",
        "    s = s.join(string)\n",
        "  if len(set(s)) < len(torres):\n",
        "    return True\n",
        "  else:\n",
        "    return False\n",
        "\n",
        "def permuta_elemento(torres):\n",
        "  lista_de_permutaciones =  []\n",
        "  for elemento in torres:\n",
        "    lista_de_permutaciones.append(set(list(p([*elemento],3))))\n",
        "    for conjunto in lista_de_permutaciones:\n",
        "      if tuple(elemento) in conjunto:\n",
        "        conjunto.remove(tuple(elemento))\n",
        "  return lista_de_permutaciones\n",
        " \n",
        "def contador(lista_de_permutaciones):\n",
        "  if permite_el_swap(torres):\n",
        "    lista2 = []\n",
        "    for conjunto in lista:\n",
        "      for tupla in conjunto:\n",
        "        lista2.append(tupla)\n",
        "        #print(lista2)\n",
        "    contador = 0\n",
        "    list_final = []\n",
        "    for v in lista2:\n",
        "      list_final.append(lista2.count(v))\n",
        "    return max(list_final)\n",
        "  else:\n",
        "    contador = 0\n",
        "    lista_de_permutaciones = [tuple(x) for x in torres]\n",
        "    for elemento in lista_de_permutaciones:\n",
        "      if lista_de_permutaciones.count(elemento) != 1:\n",
        "        contador +=1\n",
        " \n",
        "  return contador"
      ],
      "metadata": {
        "id": "cdsQB7X5eGc2"
      },
      "execution_count": 396,
      "outputs": []
    },
    {
      "cell_type": "code",
      "source": [
        "lista = permuta_elemento([\"zzz\", \"zbz\", \"zbz\", \"dgf\"])\n",
        "contador(lista)"
      ],
      "metadata": {
        "colab": {
          "base_uri": "https://localhost:8080/"
        },
        "id": "UnHciSBJBFZR",
        "outputId": "aac2dcce-30f3-4649-d474-8d66799418b6"
      },
      "execution_count": 401,
      "outputs": [
        {
          "output_type": "execute_result",
          "data": {
            "text/plain": [
              "2"
            ]
          },
          "metadata": {},
          "execution_count": 401
        }
      ]
    },
    {
      "cell_type": "markdown",
      "source": [
        ""
      ],
      "metadata": {
        "id": "ajAgrSfSeFv8"
      }
    }
  ]
}