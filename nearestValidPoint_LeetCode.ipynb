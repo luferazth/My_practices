{
  "nbformat": 4,
  "nbformat_minor": 0,
  "metadata": {
    "colab": {
      "name": "nearestValidPoint_LeetCode.ipynb",
      "provenance": [],
      "collapsed_sections": [],
      "authorship_tag": "ABX9TyOmjuVD/STvMIx6qoXx+uPR",
      "include_colab_link": true
    },
    "kernelspec": {
      "name": "python3",
      "display_name": "Python 3"
    },
    "language_info": {
      "name": "python"
    }
  },
  "cells": [
    {
      "cell_type": "markdown",
      "metadata": {
        "id": "view-in-github",
        "colab_type": "text"
      },
      "source": [
        "<a href=\"https://colab.research.google.com/github/luferazth/My_practices/blob/main/nearestValidPoint_LeetCode.ipynb\" target=\"_parent\"><img src=\"https://colab.research.google.com/assets/colab-badge.svg\" alt=\"Open In Colab\"/></a>"
      ]
    },
    {
      "cell_type": "markdown",
      "source": [
        "###Ejercicio de LeetCode Nearest Valid Point\n",
        "Dejaré el link del ejercicio para los que quieran intentar una solución distinta.\n"
      ],
      "metadata": {
        "id": "uYCI2-WL-oXb"
      }
    },
    {
      "cell_type": "markdown",
      "source": [
        "La función toma dos puntos iniciales x_1, y_1, y calcula un Punto Válido: \n",
        "Valid_Points son todos los puntos que tiene coordenada de X o Y iguales a\n",
        "nuestro punto inicial por ejemplo si x_1,y_1 = 1,2, un punto válido puede\n",
        "ser [1,3] por la coordenada X es la misma. Igualmente puede ser [4,2] por la \n",
        "coordenada Y es la misma.\n",
        "  \n",
        "Una vez que tenemos las distancias de manhantan calculamos el indice del punto\n",
        "cuya distancia de manhatan sea la menor\n",
        "  \n",
        "si no hay distancias entonces devuelve -1,\n",
        "si la distancia de mahatan es 0, entonces devuelve 0.\n",
        "si hay 1 o más puntos válidos, devuelve el índice del que tenga\n",
        "menor distancia de manhantan."
      ],
      "metadata": {
        "id": "ke6iVlc2-fgq"
      }
    },
    {
      "cell_type": "code",
      "source": [
        "def man_distance(x_1,y_1, puntos):\n",
        "  \"\"\"\n",
        "  Funcion que regresa el indice con la distancia de manhantan más pequeña.\n",
        "  La distancia de manhatan represa distancia entre dos puntos.\n",
        "\n",
        "  \"\"\"\n",
        "  \n",
        "  distancias = []\n",
        "  valid_points = []\n",
        "  for punto in puntos:\n",
        "    x_2, y_2 = punto\n",
        "    if (x_2 == x_1) or (y_2 == y_1):\n",
        "      distancias.append(abs(x_2 - x_1) + abs(y_2 - y_1))\n",
        "      valid_points.append(punto)\n",
        "    else:\n",
        "      continue\n",
        "\n",
        "  if max(distancias) == 0:\n",
        "    return 0\n",
        "  \n",
        "  elif len(valid_points) == 0:\n",
        "    return -1\n",
        "\n",
        "  elif len(valid_points) == 1:\n",
        "    return  puntos.index(valid_points[0])\n",
        "\n",
        "  elif len(valid_points) > 1:\n",
        "    min_ = [valid_points[indice] for indice,distancia in enumerate(distancias) if distancias[indice] == min(distancias)]\n",
        "    for elemento in sorted(min_):\n",
        "        return puntos.index(elemento)\n"
      ],
      "metadata": {
        "id": "ACzQPadMYj1s"
      },
      "execution_count": 2,
      "outputs": []
    },
    {
      "cell_type": "markdown",
      "source": [
        ""
      ],
      "metadata": {
        "id": "Fw-D0DrQ-ck_"
      }
    }
  ]
}