{
  "nbformat": 4,
  "nbformat_minor": 0,
  "metadata": {
    "colab": {
      "name": "codigos_para_todes.",
      "provenance": [],
      "collapsed_sections": [],
      "authorship_tag": "ABX9TyPr3dUzstDNQDRm3XVRQwBB",
      "include_colab_link": true
    },
    "kernelspec": {
      "name": "python3",
      "display_name": "Python 3"
    },
    "language_info": {
      "name": "python"
    }
  },
  "cells": [
    {
      "cell_type": "markdown",
      "metadata": {
        "id": "view-in-github",
        "colab_type": "text"
      },
      "source": [
        "<a href=\"https://colab.research.google.com/github/luferazth/My_practices/blob/main/codigos_para_todes_.ipynb\" target=\"_parent\"><img src=\"https://colab.research.google.com/assets/colab-badge.svg\" alt=\"Open In Colab\"/></a>"
      ]
    },
    {
      "cell_type": "code",
      "execution_count": 10,
      "metadata": {
        "id": "38s66N2h4CvY"
      },
      "outputs": [],
      "source": [
        "class Solution:\n",
        "    def countOdds(self, low: int, high: int) -> int:\n",
        "      \"\"\"ESTE METODO CALCULA LA CANTIDAD DE NUMEROS IMPARES DENTRO DE UN INTERVALO DADO\"\"\"\n",
        "      length = 0\n",
        "      if (high%2==1) or (low%2==1):\n",
        "        length = (high - low) // 2 + 1\n",
        "      else:\n",
        "        length = (high-low) // 2\n",
        "\n",
        "      return length"
      ]
    },
    {
      "cell_type": "code",
      "source": [
        "cuenta_odds = Solution().countOdds(10,20)"
      ],
      "metadata": {
        "id": "xURBC_nd4Vl2"
      },
      "execution_count": 12,
      "outputs": []
    },
    {
      "cell_type": "code",
      "source": [
        "cuenta_odds"
      ],
      "metadata": {
        "colab": {
          "base_uri": "https://localhost:8080/"
        },
        "id": "cdVSQoyJ7aGN",
        "outputId": "ac21a0c8-bf41-476a-8182-b24e4ba911ad"
      },
      "execution_count": 13,
      "outputs": [
        {
          "output_type": "execute_result",
          "data": {
            "text/plain": [
              "5"
            ]
          },
          "metadata": {},
          "execution_count": 13
        }
      ]
    },
    {
      "cell_type": "code",
      "source": [
        "from IPython.core.interactiveshell import InteractiveShell\n",
        "InteractiveShell.ast_node_interactivity = \"all\"\n",
        "#ESTE PAQUETE PERMITE QUE EJECUTEIS TODAS LAS LLAMADAS DE UNA FUNCION EN UN NOTEBOOK\n",
        "#PORT EJEMPLO\n",
        "flip(image_generator(5))\n",
        "flip(image_generator(6))\n",
        "flip(image_generator(7))"
      ],
      "metadata": {
        "colab": {
          "base_uri": "https://localhost:8080/"
        },
        "id": "jgNL4kRBHABb",
        "outputId": "c3c985c1-de4f-4add-cd39-240c2f1a301b"
      },
      "execution_count": 611,
      "outputs": [
        {
          "output_type": "execute_result",
          "data": {
            "text/plain": [
              "[[0, 1, 0, 0, 0],\n",
              " [0, 0, 0, 1, 1],\n",
              " [1, 1, 1, 1, 1],\n",
              " [1, 1, 1, 0, 0],\n",
              " [0, 0, 0, 1, 1]]"
            ]
          },
          "metadata": {},
          "execution_count": 611
        },
        {
          "output_type": "execute_result",
          "data": {
            "text/plain": [
              "[[1, 0, 1, 0, 0, 0],\n",
              " [1, 1, 0, 0, 0, 1],\n",
              " [1, 0, 0, 1, 1, 1],\n",
              " [0, 0, 1, 1, 1, 1],\n",
              " [0, 1, 0, 0, 0, 0],\n",
              " [1, 1, 1, 0, 1, 0]]"
            ]
          },
          "metadata": {},
          "execution_count": 611
        },
        {
          "output_type": "execute_result",
          "data": {
            "text/plain": [
              "[[1, 1, 0, 1, 0, 0, 0],\n",
              " [1, 1, 1, 1, 0, 0, 0],\n",
              " [1, 1, 1, 1, 0, 0, 1],\n",
              " [0, 0, 0, 0, 0, 0, 1],\n",
              " [1, 1, 0, 1, 0, 0, 1],\n",
              " [1, 1, 0, 1, 1, 1, 1],\n",
              " [1, 1, 1, 1, 1, 1, 0]]"
            ]
          },
          "metadata": {},
          "execution_count": 611
        }
      ]
    },
    {
      "cell_type": "code",
      "source": [
        "def diferencia(n:int)-> int:\n",
        "  \"\"\"ESTA FUNCION CALCULA LA DIFERENCIA ENTRE EL PRODUCTO Y LA SUMA\n",
        "  DE LOS ELEMENTOS DE UN ENTERO\n",
        "  POR EJEMPLO:  \n",
        "  N = 123\n",
        "  SUM = 1+2+3 = 6\n",
        "  PROD = 1*2*3 = 6\n",
        "  DIFF =  PROD - SUM\n",
        "  DIFF = 6 - 6 = 0\n",
        "  \"\"\"\n",
        "  sum = 0\n",
        "  prod = 1\n",
        "  for i in str(n):\n",
        "    sum += int(i)\n",
        "    prod *= int(i)\n",
        "    diff = prod-sum\n",
        "  return diff"
      ],
      "metadata": {
        "id": "zaNtmirDJCur"
      },
      "execution_count": 608,
      "outputs": []
    },
    {
      "cell_type": "code",
      "source": [
        "def invert(lista_de_listas)-> list:\n",
        "  \"\"\"ESTA FUNCION CAMBIA CEROS POR UNOS Y VICEVERSA, ASIGNANDO LOS VALORES EN LISTAS NUEVAS\"\"\"\n",
        "  lista_image = []\n",
        "  string_image = []\n",
        "  for lista in lista_de_listas:\n",
        "    lista_image = [0]*len(lista)\n",
        "    for indice,valor in enumerate(lista):\n",
        "      if valor == 1:\n",
        "        lista_image[indice] = 0\n",
        "      else:\n",
        "        lista_image[indice] = 1\n",
        "    string_image.append(lista_image)\n",
        "  \n",
        "  return string_image"
      ],
      "metadata": {
        "id": "GuEBIUqfJEbA"
      },
      "execution_count": 271,
      "outputs": []
    },
    {
      "cell_type": "code",
      "source": [
        "def flip(lista_de_listas)-> list:\n",
        "  \"\"\"ESTA FUNCION SOLO VOLTEA LISTAS \"\"\"\n",
        "  lista_de_listas = [lista[::-1] for lista in lista_de_listas]\n",
        "  return lista_de_listas\n",
        "  "
      ],
      "metadata": {
        "id": "xHfMKYHiQXxi"
      },
      "execution_count": 162,
      "outputs": []
    },
    {
      "cell_type": "code",
      "source": [
        "def flip_and_invert(lista_de_listas):\n",
        "  \"\"\"ESTA FUNCION UTILIZA LAS ULTIMAS DOS FUNCIONES EN ORDER O SIN ORDEN\"\"\"\n",
        "  return invert(flip(lista_de_listas))"
      ],
      "metadata": {
        "id": "LFHSS-U0axmt"
      },
      "execution_count": 285,
      "outputs": []
    },
    {
      "cell_type": "code",
      "source": [
        "import random\n",
        "def image_generator(N):\n",
        "  \"\"\"ESTA FUNCION GENERA MATRICES NxN CON 0'S Y 1'S\"\"\"\n",
        "  random.seed(2)\n",
        "  images = []\n",
        "  for indice in range(N):\n",
        "    images.append([random.randint(0,1) for n in range(N)])\n",
        "  return images\n",
        "\n",
        "  #PROBARLA"
      ],
      "metadata": {
        "id": "kWDADXpepjim"
      },
      "execution_count": 339,
      "outputs": []
    },
    {
      "cell_type": "code",
      "source": [
        "def flipAndInvertImage(image):\n",
        "  \"\"\"ESTA FUNCION INVIERTE Y FLIPEA IMAGENES NxN, LA ENCONTRÉ EN INTERNET, ESTÁ EN LEET CODE EN EL PROBLEMA HOMONIMO\"\"\"\n",
        "  return [[1-a for a in row[::-1]] for row in image]"
      ],
      "metadata": {
        "id": "h_WJHRJ2sKlz"
      },
      "execution_count": 346,
      "outputs": []
    },
    {
      "cell_type": "code",
      "source": [
        "numbers = [2, 1, 3, 4, 7]\n",
        "more_numbers = [*numbers, 11, 18]\n",
        "print(*more_numbers, sep=', ')\n",
        "### EL USO DE ASTEQUISCO AYUDA A DEJAR LOS VALORES SIN LA ESTRUCTURA DE DATOS\n",
        "#ESTO ES MÁS HARDCORE PERO MOLA"
      ],
      "metadata": {
        "colab": {
          "base_uri": "https://localhost:8080/"
        },
        "id": "ajm_S8PYt3ip",
        "outputId": "8c4307da-d285-42e5-dea8-95b422d624ae"
      },
      "execution_count": 351,
      "outputs": [
        {
          "output_type": "stream",
          "name": "stdout",
          "text": [
            "2, 1, 3, 4, 7, 11, 18\n"
          ]
        }
      ]
    },
    {
      "cell_type": "markdown",
      "source": [
        "Estamos hablando de que necesitamos hacer todas las combinaciones posibles\n",
        "de estos números, entonces significa que tenemos que hacer permutaciones,\n",
        "No hay una funcion facil que uno pueda diseñar para hacer permutaciones,\n",
        "por tanto tenemos que usar iteradores predefinidos, en otras palabras, itertools\n"
      ],
      "metadata": {
        "id": "IJZkHeNQEusP"
      }
    },
    {
      "cell_type": "code",
      "source": [
        "from itertools import permutations"
      ],
      "metadata": {
        "id": "-p4A7czYE_Vc"
      },
      "execution_count": 370,
      "outputs": []
    },
    {
      "cell_type": "markdown",
      "source": [
        "permutations crea las combinaciones pero no te devuelve nada hay que ponerlo en una lista"
      ],
      "metadata": {
        "id": "cWXz8dk8FDLg"
      }
    },
    {
      "cell_type": "code",
      "source": [
        "#La hora más tarde segun una lista que devuelve la hora más tarde\n",
        "a = [1,2,3,4]\n",
        "permutations(a)"
      ],
      "metadata": {
        "colab": {
          "base_uri": "https://localhost:8080/"
        },
        "id": "xlOklvMF7DM3",
        "outputId": "ac75892c-d3a1-41a9-c2ca-0cb4991c810d"
      },
      "execution_count": 507,
      "outputs": [
        {
          "output_type": "execute_result",
          "data": {
            "text/plain": [
              "<itertools.permutations at 0x7fae5b2b0770>"
            ]
          },
          "metadata": {},
          "execution_count": 507
        }
      ]
    },
    {
      "cell_type": "code",
      "source": [
        "permutaciones_de_la_lista = list(permutations(a))\n",
        "permutaciones_de_la_lista\n",
        "#aqui ya guardamos todas las permutaciones de la lista inicial"
      ],
      "metadata": {
        "colab": {
          "base_uri": "https://localhost:8080/"
        },
        "id": "k9anOUfVFTQW",
        "outputId": "18f4b1a3-775e-44db-9bd2-27bbd488586f"
      },
      "execution_count": 508,
      "outputs": [
        {
          "output_type": "execute_result",
          "data": {
            "text/plain": [
              "[(1, 2, 3, 4),\n",
              " (1, 2, 4, 3),\n",
              " (1, 3, 2, 4),\n",
              " (1, 3, 4, 2),\n",
              " (1, 4, 2, 3),\n",
              " (1, 4, 3, 2),\n",
              " (2, 1, 3, 4),\n",
              " (2, 1, 4, 3),\n",
              " (2, 3, 1, 4),\n",
              " (2, 3, 4, 1),\n",
              " (2, 4, 1, 3),\n",
              " (2, 4, 3, 1),\n",
              " (3, 1, 2, 4),\n",
              " (3, 1, 4, 2),\n",
              " (3, 2, 1, 4),\n",
              " (3, 2, 4, 1),\n",
              " (3, 4, 1, 2),\n",
              " (3, 4, 2, 1),\n",
              " (4, 1, 2, 3),\n",
              " (4, 1, 3, 2),\n",
              " (4, 2, 1, 3),\n",
              " (4, 2, 3, 1),\n",
              " (4, 3, 1, 2),\n",
              " (4, 3, 2, 1)]"
            ]
          },
          "metadata": {},
          "execution_count": 508
        }
      ]
    },
    {
      "cell_type": "code",
      "source": [
        "from itertools import permutations\n",
        "hora_buscada = []\n",
        "def dame_la_hora(lista_):\n",
        "  lista2 = []\n",
        "  permutaciones_de_la_lista = list(permutations(lista_))  #estos dos parrafo filtran las combinaciones \n",
        "  for tupla in permutaciones_de_la_lista:                 #que mas nos convienen\n",
        "    if (tupla[0]==2) and (tupla[1]<=3):                   #en la busqueda de la hora\n",
        "      if (tupla[2]<=5) and (tupla[3]<=9):                 #no se me ocurrio algo más facil\n",
        "        print(tupla)                                      #pero hace el trabajo\n",
        "        lista2.append(int(''.join(map(str, tupla))))      #es como un nido de if\n",
        "                                                          #\n",
        "    elif (tupla[0]<=1) and (tupla[1]<=9):                 #      \n",
        "      if (tupla[2]<=5) and (tupla[3]<=9):                  #  \n",
        "        print(tupla)                                        #\n",
        "        lista2.append(int(''.join(map(str, tupla))))        # hasta aqui es el filtro del codigo\n",
        "\n",
        "  if len(lista2)==0:\n",
        "      return print('no se puede con esos números') ### Estas ultimas  condiciones son para filtrar la máxima hora tratar de probarlo###\n",
        "  \n",
        "  else:\n",
        "    hora_buscada = str(max(lista2))\n",
        "    return print('la hora buscada es {}{}:{}{}'.format(hora_buscada[0],hora_buscada[1],hora_buscada[2],hora_buscada[3]))"
      ],
      "metadata": {
        "id": "YwFj5T9bUTGr"
      },
      "execution_count": 605,
      "outputs": []
    },
    {
      "cell_type": "code",
      "source": [
        "dame_la_hora([9,2,5,3])"
      ],
      "metadata": {
        "colab": {
          "base_uri": "https://localhost:8080/"
        },
        "id": "ZwhqMREiVVni",
        "outputId": "943c0702-3be0-4ac3-c287-fd977d6968ee"
      },
      "execution_count": 607,
      "outputs": [
        {
          "output_type": "stream",
          "name": "stdout",
          "text": [
            "(2, 3, 5, 9)\n",
            "la hora buscada es 23:59\n"
          ]
        }
      ]
    }
  ]
}