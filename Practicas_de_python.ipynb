{
  "nbformat": 4,
  "nbformat_minor": 0,
  "metadata": {
    "colab": {
      "name": "Practicas de python",
      "provenance": [],
      "authorship_tag": "ABX9TyMVw42g+xPjN5IpNZR/ICNc",
      "include_colab_link": true
    },
    "kernelspec": {
      "name": "python3",
      "display_name": "Python 3"
    },
    "language_info": {
      "name": "python"
    }
  },
  "cells": [
    {
      "cell_type": "markdown",
      "metadata": {
        "id": "view-in-github",
        "colab_type": "text"
      },
      "source": [
        "<a href=\"https://colab.research.google.com/github/luferazth/My_practices/blob/main/Practicas_de_python.ipynb\" target=\"_parent\"><img src=\"https://colab.research.google.com/assets/colab-badge.svg\" alt=\"Open In Colab\"/></a>"
      ]
    },
    {
      "cell_type": "code",
      "execution_count": 1,
      "metadata": {
        "colab": {
          "base_uri": "https://localhost:8080/"
        },
        "id": "aG0HOGMjEH43",
        "outputId": "8fe60cd6-5608-4e17-e65c-c32764eb4645"
      },
      "outputs": [
        {
          "output_type": "stream",
          "name": "stdout",
          "text": [
            "['A', 'B', 'C', 'D', 'E', 'F', 'G', 'H', 'I', 'J', 'K', 'L', 'M', 'N', 'O', 'P', 'Q', 'R', 'S', 'T', 'U', 'V', 'W', 'X', 'Y', 'Z']\n"
          ]
        }
      ],
      "source": [
        "import string\n",
        "def listAlphabet():\n",
        "  return list(string.ascii_uppercase)\n",
        "print(listAlphabet())"
      ]
    },
    {
      "cell_type": "code",
      "source": [
        "abc = listAlphabet()"
      ],
      "metadata": {
        "id": "8wNN8GyQEsp_"
      },
      "execution_count": 2,
      "outputs": []
    },
    {
      "cell_type": "code",
      "source": [
        "lista =  list(\"ACBCXSFDSGFDHFGJEEYTTHRGSDFHRDGTRC\")\n",
        "def chain(S):\n",
        "  \"\"\"\n",
        "  function that allows to solve for the most increasing substring in order.\n",
        "\n",
        "  \"\"\"\n",
        "  global lista_\n",
        "  import string\n",
        "  def listAlphabet():\n",
        "    return list(string.ascii_uppercase)\n",
        "  abc = listAlphabet()\n",
        "\n",
        "  lista =  list(S)\n",
        "  lista_ = [abc.index(valor) for valor in lista]\n",
        "  \n",
        "  lista_2 = [1]*(len(lista_))\n",
        "  for k,v in enumerate(lista_):\n",
        "    for i,u in enumerate(lista_):\n",
        "      if k == i-1 and i != len(lista_):\n",
        "        if lista_[k] < lista_[i]:\n",
        "          lista_2[i] = lista_2[k]+1\n",
        "  return lista_2"
      ],
      "metadata": {
        "id": "XywTwBcXvLNO"
      },
      "execution_count": 164,
      "outputs": []
    },
    {
      "cell_type": "code",
      "source": [
        "print(\"******* first test *********\")\n",
        "print(chain(lista),f\"first line shows the output\",f\"\\n\",lista_ ,f\"second line shows the index alphabet already encrypted for the given string\",sep='\\n')\n",
        "print(\"\\n\",\"******* test done *********\")\n",
        "print(\"******* second test *********\")\n",
        "print(chain(\"ABACDA\"), lista_, \"ABBC\", sep='\\n')\n",
        "print(\"******* test done *********\")\n"
      ],
      "metadata": {
        "colab": {
          "base_uri": "https://localhost:8080/"
        },
        "id": "TkdLursR3lpM",
        "outputId": "c86d84e6-3e9c-43a7-c5d3-3b5c4d6d570a"
      },
      "execution_count": 174,
      "outputs": [
        {
          "output_type": "stream",
          "name": "stdout",
          "text": [
            "******* first test *********\n",
            "[1, 2, 1, 2, 3, 1, 1, 1, 2, 1, 1, 1, 2, 1, 2, 3, 1, 1, 2, 1, 1, 1, 2, 1, 2, 1, 2, 3, 4, 1, 2, 3, 1, 1]\n",
            "first line shows the output\n",
            "\n",
            "\n",
            "[0, 2, 1, 2, 23, 18, 5, 3, 18, 6, 5, 3, 7, 5, 6, 9, 4, 4, 24, 19, 19, 7, 17, 6, 18, 3, 5, 7, 17, 3, 6, 19, 17, 2]\n",
            "second line shows the index alphabet already encrypted for the given string\n",
            "\n",
            " ******* test done *********\n",
            "******* second test *********\n",
            "[1, 2, 1, 2]\n",
            "[0, 1, 1, 2]\n",
            "ABBC\n",
            "******* test done *********\n"
          ]
        }
      ]
    },
    {
      "cell_type": "code",
      "source": [
        "print(chain(\"ABACDA\"), lista_, \"ABACDA\", sep='\\n')"
      ],
      "metadata": {
        "colab": {
          "base_uri": "https://localhost:8080/"
        },
        "id": "N457LFhNG8W1",
        "outputId": "8af1af69-c4ef-4e27-9ee4-330c8976f5a0"
      },
      "execution_count": 175,
      "outputs": [
        {
          "output_type": "stream",
          "name": "stdout",
          "text": [
            "[1, 2, 1, 2, 3, 1]\n",
            "[0, 1, 0, 2, 3, 0]\n",
            "ABACDA\n"
          ]
        }
      ]
    },
    {
      "cell_type": "code",
      "source": [
        "S = 'start'\n",
        "def shuffled(S):\n",
        "  \"\"\"\n",
        "  function that returns a shuffled string with no coincidence at index level.\n",
        "\n",
        "  \"\"\"\n",
        "\n",
        "  import itertools\n",
        "  tuplas = list(itertools.permutations(list(S)))  \n",
        "\n",
        "\n",
        "  def convertTuple(tupla):\n",
        "      str = ''.join(tupla)\n",
        "      return str\n",
        "\n",
        "\n",
        "  strings_ = []\n",
        "  for tupla in tuplas:\n",
        "    strings_.append(convertTuple(tupla))\n",
        "\n",
        "\n",
        "  for i in range(len(S)):\n",
        "    for elemento in strings_:\n",
        "      for indice,letra in enumerate(S):\n",
        "        if elemento[indice] == S[indice] and elemento in strings_:\n",
        "          strings_.remove(elemento)\n",
        "\n",
        "\n",
        "  if len(strings_)==0:\n",
        "    return 'IMPOSSIBLE'\n",
        "  else:\n",
        "    return strings_[-1]"
      ],
      "metadata": {
        "id": "Kpu3axF4EVQK"
      },
      "execution_count": 149,
      "outputs": []
    },
    {
      "cell_type": "code",
      "source": [
        "shuffled('jjj')"
      ],
      "metadata": {
        "colab": {
          "base_uri": "https://localhost:8080/",
          "height": 36
        },
        "id": "6giBytxpEgbB",
        "outputId": "3bd935ab-b931-43e1-8485-8b894670e53e"
      },
      "execution_count": 158,
      "outputs": [
        {
          "output_type": "execute_result",
          "data": {
            "text/plain": [
              "'IMPOSSIBLE'"
            ],
            "application/vnd.google.colaboratory.intrinsic+json": {
              "type": "string"
            }
          },
          "metadata": {},
          "execution_count": 158
        }
      ]
    },
    {
      "cell_type": "code",
      "source": [
        "shuffled(\"jabj\")"
      ],
      "metadata": {
        "colab": {
          "base_uri": "https://localhost:8080/",
          "height": 36
        },
        "id": "smsporHn8WOa",
        "outputId": "98045b59-04c7-4b7e-de1c-5d01f66cde14"
      },
      "execution_count": 150,
      "outputs": [
        {
          "output_type": "execute_result",
          "data": {
            "text/plain": [
              "'bjja'"
            ],
            "application/vnd.google.colaboratory.intrinsic+json": {
              "type": "string"
            }
          },
          "metadata": {},
          "execution_count": 150
        }
      ]
    },
    {
      "cell_type": "code",
      "source": [
        "S = 'jjjabc'\n",
        "shuffled(S)"
      ],
      "metadata": {
        "colab": {
          "base_uri": "https://localhost:8080/",
          "height": 36
        },
        "id": "PIp6JqZmB-RN",
        "outputId": "95425385-21ad-412a-ea12-32011a1bedca"
      },
      "execution_count": 151,
      "outputs": [
        {
          "output_type": "execute_result",
          "data": {
            "text/plain": [
              "'cbajjj'"
            ],
            "application/vnd.google.colaboratory.intrinsic+json": {
              "type": "string"
            }
          },
          "metadata": {},
          "execution_count": 151
        }
      ]
    },
    {
      "cell_type": "code",
      "source": [
        "def goldbar(G):\n",
        "  \"\"\"\n",
        "  function that returns the initial value U_0\n",
        "  of a arithmetic sequence sum\n",
        "  Defined by the formula S_n = N/2 * (u_0  + d(N-1)) where:\n",
        "  N: is the total number of days in our problem\n",
        "  d: is the difference in each day, in our problem d == 1\n",
        "  S_n : is the total sum of the sequence in our problem, this is G.  \n",
        "  \"\"\"\n",
        "  lista = []\n",
        "  for n in range(1,G):\n",
        "      u_0 = (G*(2/n) - (n-1))/2\n",
        "      if u_0 >0:\n",
        "        lista.append(u_0)\n",
        "      else:\n",
        "        continue\n",
        "  lista = [int(valor) for valor in lista if int(str(valor).split('.')[1]) == 0  and valor > 0]\n",
        "  print(lista)\n",
        "  return len(lista)"
      ],
      "metadata": {
        "id": "uf-Q79_LEZk-"
      },
      "execution_count": 152,
      "outputs": []
    },
    {
      "cell_type": "code",
      "source": [
        "goldbar(124)"
      ],
      "metadata": {
        "colab": {
          "base_uri": "https://localhost:8080/"
        },
        "id": "_v7Od6ue-LHq",
        "outputId": "22b7ec71-5baf-425e-9631-07513b118079"
      },
      "execution_count": 153,
      "outputs": [
        {
          "output_type": "stream",
          "name": "stdout",
          "text": [
            "[124, 12]\n"
          ]
        },
        {
          "output_type": "execute_result",
          "data": {
            "text/plain": [
              "2"
            ]
          },
          "metadata": {},
          "execution_count": 153
        }
      ]
    },
    {
      "cell_type": "code",
      "source": [
        "goldbar(125)"
      ],
      "metadata": {
        "colab": {
          "base_uri": "https://localhost:8080/"
        },
        "id": "YyjrPK0D-Mvj",
        "outputId": "ad00be85-4d70-440c-8bac-0fbb8ee28d3a"
      },
      "execution_count": 155,
      "outputs": [
        {
          "output_type": "stream",
          "name": "stdout",
          "text": [
            "[125, 62, 23, 8]\n"
          ]
        },
        {
          "output_type": "execute_result",
          "data": {
            "text/plain": [
              "4"
            ]
          },
          "metadata": {},
          "execution_count": 155
        }
      ]
    },
    {
      "cell_type": "code",
      "source": [
        "goldbar(10)"
      ],
      "metadata": {
        "colab": {
          "base_uri": "https://localhost:8080/"
        },
        "id": "I_djccmVEXY6",
        "outputId": "fd2d52aa-0394-47d3-c5e0-378a309a56ad"
      },
      "execution_count": 156,
      "outputs": [
        {
          "output_type": "stream",
          "name": "stdout",
          "text": [
            "[10, 1]\n"
          ]
        },
        {
          "output_type": "execute_result",
          "data": {
            "text/plain": [
              "2"
            ]
          },
          "metadata": {},
          "execution_count": 156
        }
      ]
    },
    {
      "cell_type": "code",
      "source": [
        "goldbar(1000)"
      ],
      "metadata": {
        "colab": {
          "base_uri": "https://localhost:8080/"
        },
        "id": "SPVcnx1vEayA",
        "outputId": "e16c1259-118c-4a8c-b120-bd724eea4846"
      },
      "execution_count": 157,
      "outputs": [
        {
          "output_type": "stream",
          "name": "stdout",
          "text": [
            "[1000, 198, 55, 28]\n"
          ]
        },
        {
          "output_type": "execute_result",
          "data": {
            "text/plain": [
              "4"
            ]
          },
          "metadata": {},
          "execution_count": 157
        }
      ]
    },
    {
      "cell_type": "code",
      "source": [
        ""
      ],
      "metadata": {
        "id": "WiVDc7FjEc6W"
      },
      "execution_count": null,
      "outputs": []
    }
  ]
}